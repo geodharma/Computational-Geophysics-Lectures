{
 "cells": [
  {
   "cell_type": "markdown",
   "id": "0893284d",
   "metadata": {
    "slideshow": {
     "slide_type": "slide"
    }
   },
   "source": [
    "# Computational Geophysics (CF234104)\n",
    "## Solving System of Linear Equation : Gauss-Jordan Elimination\n",
    "## $$Ax=b$$"
   ]
  },
  {
   "cell_type": "markdown",
   "id": "f7c0d7a9",
   "metadata": {
    "slideshow": {
     "slide_type": "slide"
    }
   },
   "source": [
    "![](Gaus-jordan.png)"
   ]
  },
  {
   "cell_type": "markdown",
   "id": "3fc3f60a",
   "metadata": {
    "slideshow": {
     "slide_type": "slide"
    }
   },
   "source": [
    "### Program for solving system of Linear equation Ax=b\n",
    "### input : matrix A dan vector b\n",
    "### output: solution of vector x "
   ]
  },
  {
   "cell_type": "code",
   "execution_count": 69,
   "id": "f4a9da10",
   "metadata": {},
   "outputs": [],
   "source": [
    "import numpy as np"
   ]
  },
  {
   "cell_type": "markdown",
   "id": "a36d2612",
   "metadata": {
    "slideshow": {
     "slide_type": "slide"
    }
   },
   "source": [
    "### input"
   ]
  },
  {
   "cell_type": "code",
   "execution_count": 70,
   "id": "c822d02f",
   "metadata": {},
   "outputs": [
    {
     "name": "stdout",
     "output_type": "stream",
     "text": [
      "A = [[ 1.  3.  6.]\n",
      " [ 2. -1.  1.]\n",
      " [ 4. -2.  3.]]\n",
      "b= [19. -2. -1.]\n"
     ]
    }
   ],
   "source": [
    "A=np.array([[1,3,6],[2,-1,1],[4,-2,3]], dtype=float)\n",
    "b=np.array([19,-2,-1],dtype=float)\n",
    "print('A =',A)\n",
    "print('b=',b)"
   ]
  },
  {
   "cell_type": "markdown",
   "id": "0a7d5840",
   "metadata": {
    "slideshow": {
     "slide_type": "slide"
    }
   },
   "source": [
    "### making an augmented matrix [A,b]"
   ]
  },
  {
   "cell_type": "code",
   "execution_count": 79,
   "id": "68861d2c",
   "metadata": {},
   "outputs": [
    {
     "name": "stdout",
     "output_type": "stream",
     "text": [
      "Ab= [[ 1.  3.  6. 19.]\n",
      " [ 2. -1.  1. -2.]\n",
      " [ 4. -2.  3. -1.]]\n",
      "m= 3\n"
     ]
    }
   ],
   "source": [
    "Ab= np.column_stack((A, b))\n",
    "m=len(A)\n",
    "print('Ab=',Ab)\n",
    "print('m=',m)"
   ]
  },
  {
   "cell_type": "markdown",
   "id": "58465cb0",
   "metadata": {
    "slideshow": {
     "slide_type": "slide"
    }
   },
   "source": [
    "#### Gaus-Jordan elimination process"
   ]
  },
  {
   "cell_type": "code",
   "execution_count": 76,
   "id": "a715c1e2",
   "metadata": {},
   "outputs": [
    {
     "name": "stdout",
     "output_type": "stream",
     "text": [
      "Ab= [[ 1.  0.  0. -2.]\n",
      " [-0.  1.  0.  1.]\n",
      " [ 0.  0.  1.  3.]]\n",
      "Solution of x = [-2.  1.  3.]\n"
     ]
    }
   ],
   "source": [
    "for i in range(m):\n",
    "    Ab[i,:]=Ab[i,:]/Ab[i,i] #setting all diagonal component = 1\n",
    "    \n",
    "    for j in range(m):\n",
    "        if i !=j:\n",
    "            Ab[j,:]=Ab[j,:]-Ab[i,:]*Ab[j,i] #setting other elements to zero\n",
    "            \n",
    "            \n",
    "#solution is the last column of modified augmented matrix Ab\n",
    "print('Ab=',Ab)\n",
    "x=Ab[:,-1]\n",
    "print('Solution of x =',x)"
   ]
  },
  {
   "cell_type": "markdown",
   "id": "75eb6b66",
   "metadata": {
    "slideshow": {
     "slide_type": "slide"
    }
   },
   "source": [
    "#### Verification"
   ]
  },
  {
   "cell_type": "code",
   "execution_count": 77,
   "id": "9459ef03",
   "metadata": {
    "slideshow": {
     "slide_type": "-"
    }
   },
   "outputs": [
    {
     "name": "stdout",
     "output_type": "stream",
     "text": [
      "b= [19. -2. -1.]\n"
     ]
    }
   ],
   "source": [
    "print('b=',np.dot(A,x))"
   ]
  },
  {
   "cell_type": "markdown",
   "id": "7b952bcb",
   "metadata": {},
   "source": [
    "### using while loops"
   ]
  },
  {
   "cell_type": "code",
   "execution_count": 78,
   "id": "d57a9aae",
   "metadata": {},
   "outputs": [
    {
     "name": "stdout",
     "output_type": "stream",
     "text": [
      "Ab= [[ 1.  0.  0. -2.]\n",
      " [ 0.  1.  0.  1.]\n",
      " [ 0.  0.  1.  3.]]\n",
      "Solution of x = [-2.  1.  3.]\n"
     ]
    }
   ],
   "source": [
    "i=0\n",
    "while i<m:\n",
    "    Ab[i,:]=Ab[i,:]/Ab[i,i] #setting all diagonal component = 1\n",
    "    \n",
    "    j=0\n",
    "    while j<m:\n",
    "          if i !=j:\n",
    "            Ab[j,:]=Ab[j,:]-Ab[i,:]*Ab[j,i] #setting other elements to zero\n",
    "          j=j+1\n",
    "        \n",
    "    i=i+1\n",
    "            \n",
    "            \n",
    "#solution is the last column of modified augmented matrix Ab\n",
    "print('Ab=',Ab)\n",
    "x=Ab[:,-1]\n",
    "print('Solution of x =',x)\n",
    "    "
   ]
  },
  {
   "cell_type": "code",
   "execution_count": null,
   "id": "13eea6ba",
   "metadata": {},
   "outputs": [],
   "source": []
  }
 ],
 "metadata": {
  "celltoolbar": "Slideshow",
  "kernelspec": {
   "display_name": "Python 3 (ipykernel)",
   "language": "python",
   "name": "python3"
  },
  "language_info": {
   "codemirror_mode": {
    "name": "ipython",
    "version": 3
   },
   "file_extension": ".py",
   "mimetype": "text/x-python",
   "name": "python",
   "nbconvert_exporter": "python",
   "pygments_lexer": "ipython3",
   "version": "3.12.2"
  }
 },
 "nbformat": 4,
 "nbformat_minor": 5
}
