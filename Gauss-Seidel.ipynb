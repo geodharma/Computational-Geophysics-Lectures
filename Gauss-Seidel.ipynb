{
 "cells": [
  {
   "cell_type": "markdown",
   "id": "aab5f29c",
   "metadata": {},
   "source": [
    "#  Computational Geophysics (CF234104)\n",
    "## Solving System of Linear Equation iteratively : Gauss-Seidel Method\n",
    "## $$Ax=b$$"
   ]
  },
  {
   "cell_type": "code",
   "execution_count": 1,
   "id": "859811ce",
   "metadata": {},
   "outputs": [],
   "source": [
    "import numpy as np"
   ]
  },
  {
   "cell_type": "markdown",
   "id": "40c49cbc",
   "metadata": {},
   "source": [
    "### input matrix A,b, and initial guess x0"
   ]
  },
  {
   "cell_type": "code",
   "execution_count": 2,
   "id": "4bba93ce",
   "metadata": {},
   "outputs": [
    {
     "name": "stdout",
     "output_type": "stream",
     "text": [
      "\n",
      "A = \n",
      " [[12. -2.  3.  1.]\n",
      " [-2. 15.  6. -3.]\n",
      " [ 1.  6. 20. -4.]\n",
      " [ 0. -3.  2.  9.]]\n",
      "\n",
      "b = \n",
      " [[ 0.]\n",
      " [ 0.]\n",
      " [20.]\n",
      " [ 0.]]\n",
      "\n",
      "x0 = \n",
      " [[0.]\n",
      " [0.]\n",
      " [0.]\n",
      " [0.]]\n"
     ]
    }
   ],
   "source": [
    "A= np.array([[12,-2,3,1],\n",
    "             [-2,15,6,-3],\n",
    "             [1,6,20,-4],\n",
    "             [0,-3,2,9]],dtype=float)\n",
    "\n",
    "b=np.array([0,0,20,0],dtype=float).reshape(-1,1)\n",
    "x0=np.array([0,0,0,0],dtype=float).reshape(-1,1)\n",
    "\n",
    "print('\\nA = \\n',A)\n",
    "print('\\nb = \\n',b)\n",
    "print('\\nx0 = \\n',x0)\n"
   ]
  },
  {
   "cell_type": "markdown",
   "id": "12ffd55a",
   "metadata": {},
   "source": [
    "### decomposing matrix A into D, L, U"
   ]
  },
  {
   "cell_type": "code",
   "execution_count": 3,
   "id": "2406068a",
   "metadata": {},
   "outputs": [
    {
     "name": "stdout",
     "output_type": "stream",
     "text": [
      "\n",
      "D = \n",
      " [[12.  0.  0.  0.]\n",
      " [ 0. 15.  0.  0.]\n",
      " [ 0.  0. 20.  0.]\n",
      " [ 0.  0.  0.  9.]]\n",
      "\n",
      "L = \n",
      " [[-0. -0. -0. -0.]\n",
      " [ 2. -0. -0. -0.]\n",
      " [-1. -6. -0. -0.]\n",
      " [-0.  3. -2. -0.]]\n",
      "\n",
      "U = \n",
      " [[-0.  2. -3. -1.]\n",
      " [-0. -0. -6.  3.]\n",
      " [-0. -0. -0.  4.]\n",
      " [-0. -0. -0. -0.]]\n"
     ]
    }
   ],
   "source": [
    "D=np.diag(np.diag(A))\n",
    "L=-np.tril(A,-1)\n",
    "U=-np.triu(A,1)\n",
    "\n",
    "print('\\nD = \\n',D)\n",
    "print('\\nL = \\n',L)\n",
    "print('\\nU = \\n',U)"
   ]
  },
  {
   "cell_type": "markdown",
   "id": "879f22fa",
   "metadata": {},
   "source": [
    "### Calculating Tgs, cgs\n",
    "\n",
    "#### $Tgs=(D-L)^{-1}U$\n",
    "#### $cgs=(D-L)^{-1}b$\n"
   ]
  },
  {
   "cell_type": "code",
   "execution_count": 7,
   "id": "8eb4c511",
   "metadata": {},
   "outputs": [
    {
     "name": "stdout",
     "output_type": "stream",
     "text": [
      "Tgs =\n",
      " [[ 0.          0.16666667 -0.25       -0.08333333]\n",
      " [ 0.          0.02222222 -0.43333333  0.18888889]\n",
      " [ 0.         -0.015       0.1425      0.1475    ]\n",
      " [ 0.          0.01074074 -0.17611111  0.03018519]]\n",
      "cgs =\n",
      " [[ 0.        ]\n",
      " [ 0.        ]\n",
      " [ 1.        ]\n",
      " [-0.22222222]]\n"
     ]
    }
   ],
   "source": [
    "inv_DL=np.linalg.inv(D-L)\n",
    "Tgs= inv_DL @ U\n",
    "cgs= inv_DL @ b\n",
    "\n",
    "print(\"Tgs =\\n\", Tgs)\n",
    "print(\"cgs =\\n\", cgs)"
   ]
  },
  {
   "cell_type": "markdown",
   "id": "28508fef",
   "metadata": {},
   "source": [
    "### Gauss-seidel\n",
    "#### solution of x :\n",
    "#### $x_{update}=Tgs * x+cgs$"
   ]
  },
  {
   "cell_type": "code",
   "execution_count": 9,
   "id": "e1057ab7",
   "metadata": {},
   "outputs": [
    {
     "name": "stdout",
     "output_type": "stream",
     "text": [
      "iter   x1      x2      x3      x4      Errors\n",
      "  1  0.0000  0.0000 1.0000  -0.2222     1.22222\n",
      "  2  -0.2315  -0.4753 1.1097  -0.4050     0.99933\n",
      "  3  -0.3229  -0.5679 1.1055  -0.4350     0.21820\n",
      "  4  -0.3348  -0.5738 1.1019  -0.4361     0.02257\n",
      "  5  -0.3348  -0.5726 1.1013  -0.4356     0.00238\n",
      "  6  -0.3345  -0.5722 1.1013  -0.4355     0.00086\n",
      "  7  -0.3344  -0.5722 1.1013  -0.4355     0.00013\n",
      "  8  -0.3344  -0.5722 1.1013  -0.4355     0.00001\n",
      "\n",
      "Solution of x =\n",
      " [[-0.3344]\n",
      " [-0.5722]\n",
      " [ 1.1013]\n",
      " [-0.4355]]\n"
     ]
    }
   ],
   "source": [
    "#set the iteration\n",
    "maxit=100\n",
    "tol=1e-5\n",
    "\n",
    "\n",
    "x=x0\n",
    "print(\"iter   x1      x2      x3      x4      Errors\")\n",
    "\n",
    "for i in range(1,maxit+1):\n",
    "    x_update=Tgs@x + cgs\n",
    "    Err=np.linalg.norm(x_update-x,ord=1) #using L1 norm\n",
    "    \n",
    "    print(f\"{i:3d}  {x_update[0, 0]:5.4f}  {x_update[1, 0]:5.4f} {x_update[2, 0]:5.4f}  {x_update[3, 0]:5.4f} {Err:11.5f}\")#display vector x each iteration\n",
    "    \n",
    "    \n",
    "    if Err<tol: #check convergence\n",
    "          break\n",
    "          \n",
    "    x=x_update\n",
    "          \n",
    "x_sol=np.round(x,4)\n",
    "\n",
    "\n",
    "print(\"\\nSolution of x =\\n\", x_sol)"
   ]
  },
  {
   "cell_type": "code",
   "execution_count": null,
   "id": "23136775",
   "metadata": {},
   "outputs": [],
   "source": []
  }
 ],
 "metadata": {
  "kernelspec": {
   "display_name": "Python 3 (ipykernel)",
   "language": "python",
   "name": "python3"
  },
  "language_info": {
   "codemirror_mode": {
    "name": "ipython",
    "version": 3
   },
   "file_extension": ".py",
   "mimetype": "text/x-python",
   "name": "python",
   "nbconvert_exporter": "python",
   "pygments_lexer": "ipython3",
   "version": "3.12.2"
  }
 },
 "nbformat": 4,
 "nbformat_minor": 5
}
