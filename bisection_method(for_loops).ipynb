{
 "cells": [
  {
   "cell_type": "markdown",
   "id": "837b7be3",
   "metadata": {
    "slideshow": {
     "slide_type": "slide"
    }
   },
   "source": [
    "## Root-finding method : bisection method"
   ]
  },
  {
   "cell_type": "code",
   "execution_count": null,
   "id": "66485505",
   "metadata": {
    "slideshow": {
     "slide_type": "slide"
    }
   },
   "outputs": [],
   "source": [
    "import math\n",
    "import numpy as np\n",
    "import matplotlib.pyplot as plt"
   ]
  },
  {
   "cell_type": "markdown",
   "id": "a78a9365",
   "metadata": {},
   "source": [
    "### Finding the root in a function :\n",
    "\n",
    "### $$f(x)=x^{3}+2x-2 , [0,1]$$"
   ]
  },
  {
   "cell_type": "code",
   "execution_count": null,
   "id": "2dc2efaa",
   "metadata": {
    "slideshow": {
     "slide_type": "slide"
    }
   },
   "outputs": [],
   "source": [
    "#define a function\n",
    "\n",
    "def func(x):\n",
    "    return x**3+2*x-2\n"
   ]
  },
  {
   "cell_type": "code",
   "execution_count": null,
   "id": "b0137b41",
   "metadata": {
    "slideshow": {
     "slide_type": "slide"
    }
   },
   "outputs": [],
   "source": [
    "#function for calling bisection method\n",
    "\n",
    "# a= upper bound\n",
    "# b=lower bound\n",
    "# c= center\n",
    "\n",
    "def bisection(a,b,tol,maxit):\n",
    "    \n",
    "    \n",
    "    if func(a)*func(b)>0:\n",
    "        print(\"The root can't be found!\")\n",
    "        print(\"please change a & b\")\n",
    "    else:\n",
    "        for i in range(1,maxit):\n",
    "            c=(a+b)*0.5\n",
    "            Err=abs(b-a)\n",
    "            print('{:2d}  {:3.4f}  {:3.4f}  {:3.4f}  {:3.4f}  {:3.4f}  {:3.4f}  {:3.4f}' \n",
    "                  .format(i,a,b,c,func(a),func(b),func(c),Err))\n",
    "            \n",
    "            if func(c)==0:\n",
    "                return c\n",
    "            elif Err<tol:\n",
    "                break\n",
    "            elif func(a)*func(c)<0:\n",
    "                b=c\n",
    "            else:\n",
    "                a=c\n",
    "        return c\n",
    "print(\"iter   a      b       c      f(a)      f(b)    f(c)    Err\")\n",
    "print(\"-----------------------------------------------------------\")\n",
    "\n",
    "c=bisection(0,1,1e-4,50)\n",
    "\n",
    "print(\"-----------------------------------------------------------\")        \n",
    "print(f\"The Root of f(x) is \",round(c,5)) \n",
    "\n",
    "    "
   ]
  },
  {
   "cell_type": "markdown",
   "id": "0f55a7b1",
   "metadata": {},
   "source": [
    "## Bisection method with plot"
   ]
  },
  {
   "cell_type": "code",
   "execution_count": null,
   "id": "5145e8ff",
   "metadata": {
    "slideshow": {
     "slide_type": "slide"
    }
   },
   "outputs": [],
   "source": [
    "def bisectionP(a,b,tol,maxit):\n",
    "    \n",
    "    if func(a)*func(b)>0:\n",
    "        print(\"The root can't be found!\")\n",
    "        print(\"please change a & b\")\n",
    "    \n",
    "    else:\n",
    "        #print(\"iter   a      b       c      f(a)      f(b)    f(c)    Err\")\n",
    "        #print(\"-----------------------------------------------------------\")\n",
    "    \n",
    "        for i in range(1,maxit):\n",
    "            c=(a+b)*0.5\n",
    "            Err=abs(b-a)\n",
    "            \n",
    "            print(\"iter   a      b       c      f(a)      f(b)    f(c)    Err\")\n",
    "            print(\"-----------------------------------------------------------\")\n",
    "\n",
    "            print('{:2d}  {:3.4f}  {:3.4f}  {:3.4f}  {:3.4f}  {:3.4f}  {:3.4f}  {:3.4f}' \n",
    "                  .format(i,a,b,c,func(a),func(b),func(c),Err))\n",
    "            \n",
    "            if func(c)==0:\n",
    "                return c\n",
    "            #input(\"Press Enter to continue...\")\n",
    "            \n",
    "            \n",
    "            #plot function\n",
    "            x_vals=np.linspace(a-1,b+1,500)\n",
    "            y_vals=func(x_vals)\n",
    "            plt.plot(x_vals,y_vals)\n",
    "            plt.plot(x_vals,y_vals)\n",
    "            plt.grid(True)\n",
    "            \n",
    "            #plot a,b,and c\n",
    "            plt.plot(a,func(a),'b*',markersize=10, label=a)\n",
    "            plt.plot(b,func(b),'g*',markersize=10, label=b)\n",
    "            plt.plot(c,func(c),'ro', markerfacecolor='r',markersize=7,label='c')\n",
    "            \n",
    "            plt.title(f'The root of f(x) using Bisection Method, num of iterations = {i}' ,fontsize=12)\n",
    "            plt.xlabel('x',fontsize=12)\n",
    "            plt.ylabel('y',fontsize=12)\n",
    "            plt.legend(loc='lower right')\n",
    "            \n",
    "            plt.show()\n",
    "            \n",
    "            input(\"Press Enter to continue...\")\n",
    "            \n",
    "            #update a,b\n",
    "            if Err<tol:\n",
    "                print(\"The root is found!\")\n",
    "                print(f\"The Root of f(x) is \",round(c,5))\n",
    "                print(f\"it took {i} iterations to find the root\")\n",
    "                break\n",
    "                \n",
    "            if func(a)*func(c)<0:\n",
    "                b=c\n",
    "            else:\n",
    "                a=c\n",
    "        return c\n",
    "        "
   ]
  },
  {
   "cell_type": "code",
   "execution_count": null,
   "id": "5e8e4b74",
   "metadata": {},
   "outputs": [],
   "source": [
    "c=bisectionP(0,1,1e-4,100)\n",
    "\n",
    "\n"
   ]
  },
  {
   "cell_type": "code",
   "execution_count": null,
   "id": "c8ff5d93",
   "metadata": {},
   "outputs": [],
   "source": []
  }
 ],
 "metadata": {
  "kernelspec": {
   "display_name": "Python 3 (ipykernel)",
   "language": "python",
   "name": "python3"
  },
  "language_info": {
   "codemirror_mode": {
    "name": "ipython",
    "version": 3
   },
   "file_extension": ".py",
   "mimetype": "text/x-python",
   "name": "python",
   "nbconvert_exporter": "python",
   "pygments_lexer": "ipython3",
   "version": "3.12.2"
  }
 },
 "nbformat": 4,
 "nbformat_minor": 5
}
