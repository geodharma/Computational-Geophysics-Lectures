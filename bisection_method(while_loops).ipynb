{
 "cells": [
  {
   "cell_type": "markdown",
   "id": "837b7be3",
   "metadata": {},
   "source": [
    "## Root-finding using bisection method"
   ]
  },
  {
   "cell_type": "code",
   "execution_count": 4,
   "id": "66485505",
   "metadata": {},
   "outputs": [],
   "source": [
    "import math"
   ]
  },
  {
   "cell_type": "markdown",
   "id": "a78a9365",
   "metadata": {},
   "source": [
    "### Finding the root in a function :\n",
    "\n",
    "### - $$f(x)=x^{3}+2x-2 ; [0,1]$$\n",
    "### - $$f(x)=xsin(x)-e^{x} ; [3,-2]$$"
   ]
  },
  {
   "cell_type": "code",
   "execution_count": 5,
   "id": "2dc2efaa",
   "metadata": {},
   "outputs": [],
   "source": [
    "#define a function\n",
    "\n",
    "def func(x):\n",
    "    return x**3+2*x-2\n",
    "    #return math.sin(x)*x-math.exp(x)\n"
   ]
  },
  {
   "cell_type": "code",
   "execution_count": 6,
   "id": "b0137b41",
   "metadata": {},
   "outputs": [
    {
     "name": "stdout",
     "output_type": "stream",
     "text": [
      "iter   a      b       c      f(a)      f(b)    f(c)    Err\n",
      "-----------------------------------------------------------\n",
      " 1  0.0000  1.0000  0.5000  -2.0000  1.0000  -0.8750  0.5000\n",
      " 2  0.5000  1.0000  0.7500  -0.8750  1.0000  -0.0781  0.5000\n",
      " 3  0.7500  1.0000  0.8750  -0.0781  1.0000  0.4199  0.2500\n",
      " 4  0.7500  0.8750  0.8125  -0.0781  0.4199  0.1614  0.1250\n",
      " 5  0.7500  0.8125  0.7812  -0.0781  0.1614  0.0393  0.0625\n",
      " 6  0.7500  0.7812  0.7656  -0.0781  0.0393  -0.0200  0.0312\n",
      " 7  0.7656  0.7812  0.7734  -0.0200  0.0393  0.0095  0.0156\n",
      " 8  0.7656  0.7734  0.7695  -0.0200  0.0095  -0.0052  0.0078\n",
      " 9  0.7695  0.7734  0.7715  -0.0052  0.0095  0.0021  0.0039\n",
      "10  0.7695  0.7715  0.7705  -0.0052  0.0021  -0.0015  0.0020\n",
      "11  0.7705  0.7715  0.7710  -0.0015  0.0021  0.0003  0.0010\n",
      "12  0.7705  0.7710  0.7708  -0.0015  0.0003  -0.0006  0.0005\n",
      "13  0.7708  0.7710  0.7709  -0.0006  0.0003  -0.0002  0.0002\n",
      "14  0.7709  0.7710  0.7709  -0.0002  0.0003  0.0001  0.0001\n",
      "-----------------------------------------------------------\n",
      "The Root of f(x) is  0.77094\n"
     ]
    }
   ],
   "source": [
    "#function for calling bisection method\n",
    "\n",
    "# a= upper bound\n",
    "# b=lower bound\n",
    "# c= center\n",
    "\n",
    "def bisection(a,b,tol):\n",
    "    i=0\n",
    "    Err=abs(b-a)/2\n",
    "    if func(a)*func(b)>0:\n",
    "        print(\"The root can't be found!\")\n",
    "        print(\"please change a & b\")\n",
    "    else:\n",
    "        while Err>tol:\n",
    "            c=(a+b)*0.5\n",
    "            i=i+1\n",
    "            print('{:2d}  {:3.4f}  {:3.4f}  {:3.4f}  {:3.4f}  {:3.4f}  {:3.4f}  {:3.4f}' \n",
    "                  .format(i,a,b,c,func(a),func(b),func(c),Err))\n",
    "            \n",
    "            if func(c)==0:\n",
    "                return c\n",
    "            elif func(a)*func(c)<0:\n",
    "                b=c\n",
    "            else:\n",
    "                a=c\n",
    "            Err=abs(b-a)\n",
    "        return c\n",
    "\n",
    "print(\"iter   a      b       c      f(a)      f(b)    f(c)    Err\")\n",
    "print(\"-----------------------------------------------------------\")\n",
    "\n",
    "c=bisection(0,1,1e-4)\n",
    "\n",
    "print(\"-----------------------------------------------------------\")        \n",
    "print(f\"The Root of f(x) is \",round(c,5)) \n",
    "\n",
    "    "
   ]
  },
  {
   "cell_type": "code",
   "execution_count": 7,
   "id": "83b08d7d",
   "metadata": {},
   "outputs": [
    {
     "data": {
      "text/plain": [
       "6.832643862253462e-05"
      ]
     },
     "execution_count": 7,
     "metadata": {},
     "output_type": "execute_result"
    }
   ],
   "source": [
    "func(c)"
   ]
  },
  {
   "cell_type": "code",
   "execution_count": null,
   "id": "33530531",
   "metadata": {},
   "outputs": [],
   "source": []
  }
 ],
 "metadata": {
  "kernelspec": {
   "display_name": "Python 3 (ipykernel)",
   "language": "python",
   "name": "python3"
  },
  "language_info": {
   "codemirror_mode": {
    "name": "ipython",
    "version": 3
   },
   "file_extension": ".py",
   "mimetype": "text/x-python",
   "name": "python",
   "nbconvert_exporter": "python",
   "pygments_lexer": "ipython3",
   "version": "3.12.2"
  }
 },
 "nbformat": 4,
 "nbformat_minor": 5
}
