{
 "cells": [
  {
   "cell_type": "markdown",
   "id": "f78fd768",
   "metadata": {},
   "source": [
    "# Computational Geophysics (CF234104)\n",
    "## Solving System of Linear Equation : Gauss Elimination\n",
    "## $$Ax=b$$"
   ]
  },
  {
   "cell_type": "markdown",
   "id": "21a25c6e",
   "metadata": {},
   "source": [
    "### Program for solving system of Linear equation Ax=b\n",
    "### input : matrix A dan vector b\n",
    "### output: solution of vector x "
   ]
  },
  {
   "cell_type": "code",
   "execution_count": 13,
   "id": "f4f6a556",
   "metadata": {},
   "outputs": [],
   "source": [
    "import numpy as np"
   ]
  },
  {
   "cell_type": "markdown",
   "id": "ffbe91cf",
   "metadata": {},
   "source": [
    "### input"
   ]
  },
  {
   "cell_type": "code",
   "execution_count": 45,
   "id": "aee25dc1",
   "metadata": {},
   "outputs": [
    {
     "name": "stdout",
     "output_type": "stream",
     "text": [
      "A = [[ 1.  3.  6.]\n",
      " [ 2. -1.  1.]\n",
      " [ 4. -2.  3.]]\n",
      "b= [19. -2. -1.]\n"
     ]
    }
   ],
   "source": [
    "A=np.array([[1,3,6],[2,-1,1],[4,-2,3]],dtype=float)\n",
    "b=np.array([19,-2,-1],dtype=float)\n",
    "print('A =',A)\n",
    "print('b=',b)"
   ]
  },
  {
   "cell_type": "markdown",
   "id": "d5d2bbd2",
   "metadata": {},
   "source": [
    "### Making an augmented matrix"
   ]
  },
  {
   "cell_type": "code",
   "execution_count": 56,
   "id": "f348b441",
   "metadata": {},
   "outputs": [
    {
     "name": "stdout",
     "output_type": "stream",
     "text": [
      "Ab= [[ 1.  3.  6. 19.]\n",
      " [ 2. -1.  1. -2.]\n",
      " [ 4. -2.  3. -1.]]\n",
      "m= 3\n"
     ]
    }
   ],
   "source": [
    "Ab=np.column_stack((A, b))\n",
    "m=len(A)\n",
    "print('Ab=',Ab)\n",
    "print('m=',m)"
   ]
  },
  {
   "cell_type": "markdown",
   "id": "e85f642c",
   "metadata": {},
   "source": [
    "### Gauss Elimination process : 1.) forward elimination phase"
   ]
  },
  {
   "cell_type": "code",
   "execution_count": 57,
   "id": "e672a895",
   "metadata": {},
   "outputs": [
    {
     "name": "stdout",
     "output_type": "stream",
     "text": [
      "Ab=  [[  1.   3.   6.  19.]\n",
      " [  0.  -7. -11. -40.]\n",
      " [  0.   0.   1.   3.]]\n"
     ]
    }
   ],
   "source": [
    "for i in range (m-1):\n",
    "    for j in range (i+1,m):\n",
    "        eps=Ab[j,i]/Ab[i,i]\n",
    "        Ab[j,i:]=Ab[j,i:]-eps*Ab[i,i:]\n",
    "    \n",
    "print('Ab= ',Ab)\n",
    "\n"
   ]
  },
  {
   "cell_type": "markdown",
   "id": "b32308ad",
   "metadata": {},
   "source": [
    "### Gauss Elimination process : 2.) backward-subtitution phase"
   ]
  },
  {
   "cell_type": "code",
   "execution_count": 55,
   "id": "e499d296",
   "metadata": {
    "scrolled": true
   },
   "outputs": [
    {
     "name": "stdout",
     "output_type": "stream",
     "text": [
      "Solution x =  [-2.  1.  3.]\n"
     ]
    }
   ],
   "source": [
    "x=np.zeros(m)\n",
    "\n",
    "for i in range(m-1, -1, -1):\n",
    "    x[i] = (Ab[i, -1] - np.dot(Ab[i, i+1:m], x[i+1:m])) / Ab[i, i]\n",
    "\n",
    "print('Solution x = ', x)"
   ]
  }
 ],
 "metadata": {
  "kernelspec": {
   "display_name": "Python 3 (ipykernel)",
   "language": "python",
   "name": "python3"
  },
  "language_info": {
   "codemirror_mode": {
    "name": "ipython",
    "version": 3
   },
   "file_extension": ".py",
   "mimetype": "text/x-python",
   "name": "python",
   "nbconvert_exporter": "python",
   "pygments_lexer": "ipython3",
   "version": "3.12.2"
  }
 },
 "nbformat": 4,
 "nbformat_minor": 5
}
