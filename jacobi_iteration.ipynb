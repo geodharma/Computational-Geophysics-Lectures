{
 "cells": [
  {
   "cell_type": "markdown",
   "id": "31a156d2",
   "metadata": {},
   "source": [
    "#  Computational Geophysics (CF234104)\n",
    "## Solving System of Linear Equation iteratively : Jacobi Method\n",
    "## $$Ax=b$$"
   ]
  },
  {
   "cell_type": "code",
   "execution_count": 75,
   "id": "5ddd9b1a",
   "metadata": {},
   "outputs": [],
   "source": [
    "import numpy as np"
   ]
  },
  {
   "cell_type": "markdown",
   "id": "ac1a9108",
   "metadata": {},
   "source": [
    "#### input matrix A,b, and initial guess x0"
   ]
  },
  {
   "cell_type": "code",
   "execution_count": 76,
   "id": "4dcdd773",
   "metadata": {},
   "outputs": [
    {
     "name": "stdout",
     "output_type": "stream",
     "text": [
      "\n",
      "A = \n",
      " [[12. -2.  3.  1.]\n",
      " [-2. 15.  6. -3.]\n",
      " [ 1.  6. 20. -4.]\n",
      " [ 0. -3.  2.  9.]]\n",
      "\n",
      "b = \n",
      " [[ 0.]\n",
      " [ 0.]\n",
      " [20.]\n",
      " [ 0.]]\n",
      "\n",
      "x0 = \n",
      " [[0.]\n",
      " [0.]\n",
      " [0.]\n",
      " [0.]]\n"
     ]
    }
   ],
   "source": [
    "A= np.array([[12,-2,3,1],\n",
    "             [-2,15,6,-3],\n",
    "             [1,6,20,-4],\n",
    "             [0,-3,2,9]],dtype=float)\n",
    "\n",
    "b=np.array([0,0,20,0],dtype=float).reshape(-1,1)\n",
    "x0=np.array([0,0,0,0],dtype=float).reshape(-1,1)\n",
    "\n",
    "print('\\nA = \\n',A)\n",
    "print('\\nb = \\n',b)\n",
    "print('\\nx0 = \\n',x0)\n"
   ]
  },
  {
   "cell_type": "markdown",
   "id": "10c78295",
   "metadata": {},
   "source": [
    "### decomposing matrix A into D, L, U"
   ]
  },
  {
   "cell_type": "code",
   "execution_count": 77,
   "id": "96df755f",
   "metadata": {},
   "outputs": [
    {
     "name": "stdout",
     "output_type": "stream",
     "text": [
      "\n",
      "D = \n",
      " [[12.  0.  0.  0.]\n",
      " [ 0. 15.  0.  0.]\n",
      " [ 0.  0. 20.  0.]\n",
      " [ 0.  0.  0.  9.]]\n",
      "\n",
      "L = \n",
      " [[-0. -0. -0. -0.]\n",
      " [ 2. -0. -0. -0.]\n",
      " [-1. -6. -0. -0.]\n",
      " [-0.  3. -2. -0.]]\n",
      "\n",
      "U = \n",
      " [[-0.  2. -3. -1.]\n",
      " [-0. -0. -6.  3.]\n",
      " [-0. -0. -0.  4.]\n",
      " [-0. -0. -0. -0.]]\n"
     ]
    }
   ],
   "source": [
    "D=np.diag(np.diag(A))\n",
    "L=-np.tril(A,-1)\n",
    "U=-np.triu(A,1)\n",
    "\n",
    "print('\\nD = \\n',D)\n",
    "print('\\nL = \\n',L)\n",
    "print('\\nU = \\n',U)"
   ]
  },
  {
   "cell_type": "markdown",
   "id": "95c6ba13",
   "metadata": {},
   "source": [
    "### Calculate T & c\n",
    "\n",
    "\n",
    "#### $T=D^{-1}(L+U)$\n",
    "#### $c=D^{-1}b$"
   ]
  },
  {
   "cell_type": "code",
   "execution_count": 78,
   "id": "2f88a249",
   "metadata": {
    "scrolled": true
   },
   "outputs": [
    {
     "name": "stdout",
     "output_type": "stream",
     "text": [
      "\n",
      "T = \n",
      " [[ 0.          0.16666667 -0.25       -0.08333333]\n",
      " [ 0.13333333  0.         -0.4         0.2       ]\n",
      " [-0.05       -0.3         0.          0.2       ]\n",
      " [ 0.          0.33333333 -0.22222222  0.        ]]\n",
      "\n",
      "c = \n",
      " [[0.]\n",
      " [0.]\n",
      " [1.]\n",
      " [0.]]\n"
     ]
    }
   ],
   "source": [
    "D_inv=np.linalg.inv(D)\n",
    "T=D_inv @ (L+U)\n",
    "c=D_inv@b\n",
    "\n",
    "print('\\nT = \\n',T)\n",
    "print('\\nc = \\n',c)"
   ]
  },
  {
   "cell_type": "markdown",
   "id": "9f3be5a9",
   "metadata": {},
   "source": [
    "## Jacobi iteration\n",
    "\n",
    "#### solution of x :\n",
    "### $x_{update}=Tx+c$"
   ]
  },
  {
   "cell_type": "code",
   "execution_count": 85,
   "id": "92c2b409",
   "metadata": {},
   "outputs": [
    {
     "name": "stdout",
     "output_type": "stream",
     "text": [
      "iter   x1      x2      x3      x4      Errors\n",
      "  1  0.0000  0.0000 1.0000  0.0000     1.00000\n",
      "  2  -0.2500  -0.4000 1.0000  -0.2222     0.87222\n",
      "  3  -0.2981  -0.4778 1.0881  -0.3556     0.34731\n",
      "  4  -0.3220  -0.5461 1.0871  -0.4010     0.13859\n",
      "  5  -0.3294  -0.5580 1.0997  -0.4236     0.05442\n",
      "  6  -0.3326  -0.5685 1.0991  -0.4304     0.02112\n",
      "  7  -0.3337  -0.5701 1.1011  -0.4338     0.00796\n",
      "  8  -0.3341  -0.5717 1.1010  -0.4347     0.00319\n",
      "  9  -0.3343  -0.5719 1.1013  -0.4352     0.00115\n",
      " 10  -0.3344  -0.5721 1.1012  -0.4354     0.00048\n",
      " 11  -0.3344  -0.5721 1.1013  -0.4354     0.00017\n",
      " 12  -0.3344  -0.5722 1.1013  -0.4354     0.00007\n",
      " 13  -0.3344  -0.5722 1.1013  -0.4355     0.00002\n",
      " 14  -0.3344  -0.5722 1.1013  -0.4355     0.00001\n",
      " 15  -0.3344  -0.5722 1.1013  -0.4355     0.00000\n",
      "\n",
      "Solution of x =\n",
      " [[-0.3344]\n",
      " [-0.5722]\n",
      " [ 1.1013]\n",
      " [-0.4355]]\n"
     ]
    }
   ],
   "source": [
    "maxit=100\n",
    "tol=1e-5\n",
    "\n",
    "\n",
    "x=x0\n",
    "print(\"iter   x1      x2      x3      x4      Errors\")\n",
    "\n",
    "for i in range(1,maxit+1):\n",
    "    x_update=T@x + c\n",
    "    Err=np.linalg.norm(x_update-x,ord=1) #using L1 norm\n",
    "    \n",
    "    print(f\"{i:3d}  {x_update[0, 0]:5.4f}  {x_update[1, 0]:5.4f} {x_update[2, 0]:5.4f}  {x_update[3, 0]:5.4f} {Err:11.5f}\")#display vector x each iteration\n",
    "    \n",
    "    \n",
    "    if Err<tol: #check convergence\n",
    "          break\n",
    "          \n",
    "    x=x_update\n",
    "          \n",
    "x_sol=np.round(x,4)\n",
    "\n",
    "\n",
    "print(\"\\nSolution of x =\\n\", x_sol)\n",
    "       "
   ]
  },
  {
   "cell_type": "code",
   "execution_count": 80,
   "id": "d83a9f02",
   "metadata": {},
   "outputs": [
    {
     "data": {
      "text/plain": [
       "array([[ 0.],\n",
       "       [ 0.],\n",
       "       [20.],\n",
       "       [ 0.]])"
      ]
     },
     "execution_count": 80,
     "metadata": {},
     "output_type": "execute_result"
    }
   ],
   "source": [
    "b\n"
   ]
  },
  {
   "cell_type": "code",
   "execution_count": 81,
   "id": "11d5dab9",
   "metadata": {},
   "outputs": [
    {
     "name": "stdout",
     "output_type": "stream",
     "text": [
      "b= [[ 0.]\n",
      " [ 0.]\n",
      " [20.]\n",
      " [-0.]]\n"
     ]
    }
   ],
   "source": [
    "b=np.dot(A,x_sol)\n",
    "print('b=',np.round(b))"
   ]
  }
 ],
 "metadata": {
  "kernelspec": {
   "display_name": "Python 3 (ipykernel)",
   "language": "python",
   "name": "python3"
  },
  "language_info": {
   "codemirror_mode": {
    "name": "ipython",
    "version": 3
   },
   "file_extension": ".py",
   "mimetype": "text/x-python",
   "name": "python",
   "nbconvert_exporter": "python",
   "pygments_lexer": "ipython3",
   "version": "3.12.2"
  }
 },
 "nbformat": 4,
 "nbformat_minor": 5
}
