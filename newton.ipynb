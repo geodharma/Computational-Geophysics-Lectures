{
 "cells": [
  {
   "cell_type": "markdown",
   "id": "bcad4adb",
   "metadata": {},
   "source": [
    "## Root-finding method : Newton-Raphson\n",
    "\n",
    "## $$x_{new}=x_{old}-\\frac{f(x_{old})}{f'(x_{old})} $$"
   ]
  },
  {
   "cell_type": "code",
   "execution_count": 3,
   "id": "84e581ca",
   "metadata": {},
   "outputs": [],
   "source": [
    "import math\n",
    "import numpy as np\n",
    "import matplotlib.pyplot as plt"
   ]
  },
  {
   "cell_type": "markdown",
   "id": "1fe109b0",
   "metadata": {},
   "source": [
    "## define a function "
   ]
  },
  {
   "cell_type": "code",
   "execution_count": 4,
   "id": "69fbaa48",
   "metadata": {},
   "outputs": [],
   "source": [
    "def func(x):\n",
    "    return x**3+2*x-2"
   ]
  },
  {
   "cell_type": "markdown",
   "id": "ae26368b",
   "metadata": {},
   "source": [
    "## define derivative"
   ]
  },
  {
   "cell_type": "code",
   "execution_count": 9,
   "id": "7311027e",
   "metadata": {},
   "outputs": [],
   "source": [
    "def dfunc(x):\n",
    "    return 3*x**2+2"
   ]
  },
  {
   "cell_type": "markdown",
   "id": "5525b288",
   "metadata": {},
   "source": [
    "## Newton-Raphson method"
   ]
  },
  {
   "cell_type": "code",
   "execution_count": 16,
   "id": "6499cd4d",
   "metadata": {},
   "outputs": [],
   "source": [
    "def newton(x0, tol):\n",
    "    x_old = x0\n",
    "    i = 1  # Start iteration from 1\n",
    "\n",
    "    if dfunc(x0) == 0:\n",
    "        print(\"This method doesn't work! The derivative is zero at the initial guess.\")\n",
    "        print(\"Please change the initial guess x0.\")\n",
    "        return None\n",
    "\n",
    "    # First iteration\n",
    "    x_new = x_old - func(x_old) / dfunc(x_old)  # NR formula\n",
    "    \n",
    "    Err = (abs(x_new - x_old) / abs(x_new)) * 100  # Relative error dalam persen\n",
    "    \n",
    "\n",
    "    \n",
    "\n",
    "    # Print the first iteration\n",
    "    print('{:2d}  {:8.4f}  {:8.4f}  {:8.4f}  {:8.4f}  {:8.4f}'.format(\n",
    "        i, x_old, func(x_old), dfunc(x_old), x_new, Err))\n",
    "\n",
    "    # Iterate while the error is greater than the tolerance\n",
    "    while Err > tol:\n",
    "        x_old = x_new\n",
    "        x_new = x_old - func(x_old) / dfunc(x_old)  \n",
    "        Err = (abs(x_new - x_old) / abs(x_new)) * 100  \n",
    "        i= i+1  # Increment the iteration count\n",
    "\n",
    "        # Print each iteration\n",
    "        print('{:2d}  {:8.4f}  {:8.4f}  {:8.4f}  {:8.4f}  {:8.4f}'.format(\n",
    "            i, x_old, func(x_old), dfunc(x_old), x_new, Err))\n",
    "\n",
    "        # Stop if the function evaluates to zero\n",
    "        if func(x_new) == 0:\n",
    "            return x_new\n",
    "\n",
    "    # Return the final root estimate\n",
    "    return x_new"
   ]
  },
  {
   "cell_type": "markdown",
   "id": "e1ae3956",
   "metadata": {},
   "source": [
    "## Applying Newton-Raphson method on a function to find the root"
   ]
  },
  {
   "cell_type": "code",
   "execution_count": 17,
   "id": "67edf985",
   "metadata": {},
   "outputs": [
    {
     "name": "stdout",
     "output_type": "stream",
     "text": [
      "iter   x_old   f(x_old)  f'(x_old)  x_new     Err(%)\n",
      "-----------------------------------------------------\n",
      " 1    7.0000  355.0000  149.0000    4.6174   51.5988\n",
      " 2    4.6174  105.6828   65.9625    3.0153   53.1348\n",
      " 3    3.0153   31.4454   29.2758    1.9412   55.3327\n",
      " 4    1.9412    9.1971   13.3045    1.2499   55.3060\n",
      " 5    1.2499    2.4525    6.6868    0.8831   41.5299\n",
      " 6    0.8831    0.4551    4.3398    0.7783   13.4732\n",
      " 7    0.7783    0.0280    3.8172    0.7710    0.9507\n",
      " 8    0.7710    0.0001    3.7831    0.7709    0.0043\n",
      "-------------------------------------------------------\n",
      "The Root of f(x) is  0.77092\n"
     ]
    }
   ],
   "source": [
    "print(\"iter   x_old   f(x_old)  f'(x_old)  x_new     Err(%)\")\n",
    "print(\"-----------------------------------------------------\")\n",
    "\n",
    "root=newton(7,0.01)\n",
    "\n",
    "print(\"-------------------------------------------------------\")        \n",
    "print(f\"The Root of f(x) is \",round(root,5)) "
   ]
  },
  {
   "cell_type": "markdown",
   "id": "a230e40f",
   "metadata": {},
   "source": [
    "## using for-loop"
   ]
  },
  {
   "cell_type": "code",
   "execution_count": 74,
   "id": "fb80c8ba",
   "metadata": {},
   "outputs": [],
   "source": [
    "def newtonraphson(x0,tol,maxit):\n",
    "    x_old=x0\n",
    "    \n",
    "    if dfunc(x0) == 0:\n",
    "        print(\"This method doesn't work! The derivative is zero at the initial guess.\")\n",
    "        print(\"Please change the initial guess x0.\")\n",
    "        return None\n",
    "    \n",
    "    #initialize x_new and Error\n",
    "    x_new=x_old\n",
    "    #Err=None\n",
    "    err_list =[]\n",
    "    \n",
    "    # Iterate until maximum iteration or the error is lower or equals to tolerance\n",
    "    for i in range (1,maxit+1):\n",
    "        x_new = x_old - func(x_old) / dfunc(x_old)  \n",
    "        Err = (abs(x_new - x_old) / abs(x_new)) * 100  \n",
    "        \n",
    "\n",
    "        # Print each iteration\n",
    "        print('{:2d}  {:8.4f}  {:8.4f}  {:8.4f}  {:8.4f}  {:8.4f}'.format(\n",
    "            i, x_old, func(x_old), dfunc(x_old), x_new, Err))\n",
    "        \n",
    "        \n",
    "        err_list.append(Err)\n",
    "        \n",
    "\n",
    "        # Check if the error is equal or lower that tolerance\n",
    "        if Err<tol:\n",
    "            return x_new, err_list\n",
    "        \n",
    "        #update x_old for the next iteration\n",
    "        x_old=x_new\n",
    "\n",
    "    # Return the final root estimate & Error\n",
    "    return x_new,err_list"
   ]
  },
  {
   "cell_type": "code",
   "execution_count": 92,
   "id": "0a87de62",
   "metadata": {},
   "outputs": [
    {
     "name": "stdout",
     "output_type": "stream",
     "text": [
      "iter   x_old   f(x_old)  f'(x_old)  x_new     Err(%)\n",
      "-----------------------------------------------------\n",
      " 1    5.0000  133.0000   77.0000    3.2727   52.7778\n",
      " 2    3.2727   39.5988   34.1322    2.1126   54.9170\n",
      " 3    2.1126   11.6534   15.3888    1.3553   55.8741\n",
      " 4    1.3553    3.2001    7.5106    0.9292   45.8534\n",
      " 5    0.9292    0.6608    4.5904    0.7853   18.3315\n",
      " 6    0.7853    0.0548    3.8500    0.7710    1.8455\n",
      " 7    0.7710    0.0005    3.7835    0.7709    0.0163\n",
      " 8    0.7709    0.0000    3.7829    0.7709    0.0000\n",
      "-------------------------------------------------------\n",
      "The Root of f(x) is  0.77092\n"
     ]
    },
    {
     "data": {
      "image/png": "[encoded data removed]",
      "text/plain": [
       "<Figure size 640x480 with 1 Axes>"
      ]
     },
     "metadata": {},
     "output_type": "display_data"
    }
   ],
   "source": [
    "print(\"iter   x_old   f(x_old)  f'(x_old)  x_new     Err(%)\")\n",
    "print(\"-----------------------------------------------------\")\n",
    "\n",
    "root,err_list=newtonraphson(5,0.01,100)\n",
    "\n",
    "print(\"-------------------------------------------------------\")        \n",
    "print(f\"The Root of f(x) is \",round(root,5)) \n",
    "\n",
    "plt.plot(err_list,'b-*')\n",
    "plt.grid(visible=True, which='both', axis='both', color='gray', linestyle='--', linewidth=1.5)\n",
    "plt.title('Convergence rate of Newton-Raphson method')\n",
    "plt.xlabel('Number of iteration')\n",
    "plt.ylabel('Error relative [%]')\n",
    "plt.show()"
   ]
  }
 ],
 "metadata": {
  "kernelspec": {
   "display_name": "Python 3 (ipykernel)",
   "language": "python",
   "name": "python3"
  },
  "language_info": {
   "codemirror_mode": {
    "name": "ipython",
    "version": 3
   },
   "file_extension": ".py",
   "mimetype": "text/x-python",
   "name": "python",
   "nbconvert_exporter": "python",
   "pygments_lexer": "ipython3",
   "version": "3.12.2"
  }
 },
 "nbformat": 4,
 "nbformat_minor": 5
}
