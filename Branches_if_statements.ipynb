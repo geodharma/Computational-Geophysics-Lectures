{
 "cells": [
  {
   "cell_type": "markdown",
   "id": "f7a61ce2",
   "metadata": {
    "slideshow": {
     "slide_type": "slide"
    }
   },
   "source": [
    "# Computational Geophysics (CF234104)\n",
    "\n",
    "### Program Design, Logics, & Branches (if statements)"
   ]
  },
  {
   "cell_type": "markdown",
   "id": "f1592e33",
   "metadata": {
    "slideshow": {
     "slide_type": "slide"
    }
   },
   "source": [
    "## Outline\n",
    "- Introduction\n",
    "- Flow chart & Psueudocode\n",
    "- Branches if statements\n",
    "- Exercise"
   ]
  },
  {
   "cell_type": "markdown",
   "id": "50e99926",
   "metadata": {
    "slideshow": {
     "slide_type": "slide"
    }
   },
   "source": [
    "## Introduction\n",
    "\n",
    "- sequence of program\n",
    "### Input -> Proscess -> Output"
   ]
  },
  {
   "cell_type": "code",
   "execution_count": 1,
   "id": "46b44d07",
   "metadata": {},
   "outputs": [
    {
     "name": "stdout",
     "output_type": "stream",
     "text": [
      "Temperature conversion from Celcius\n",
      "input temperature in Celcius degree =45\n",
      "Temperature in Kelvin =  318.15\n",
      "Temperature in Farhenheit degree =  113.0\n",
      "Temperature in Reamur degree = 36.0\n"
     ]
    }
   ],
   "source": [
    "print('Temperature conversion from Celcius')\n",
    "\n",
    "#input\n",
    "T_cel=int(input('input temperature in Celcius degree =')) #input temperature celcius degree\n",
    "\n",
    "#proscess\n",
    "#calculate \n",
    "T_K=T_cel+273.15\n",
    "T_F=T_cel*(9/5)+32\n",
    "T_R=T_cel*(4/5)\n",
    "\n",
    "#output\n",
    "print('Temperature in Kelvin = ',T_K)\n",
    "print('Temperature in Farhenheit degree = ',T_F)\n",
    "print('Temperature in Reamur degree =',T_R)"
   ]
  },
  {
   "cell_type": "markdown",
   "id": "f01d8d8e",
   "metadata": {
    "slideshow": {
     "slide_type": "slide"
    }
   },
   "source": [
    "## Introduction\n",
    "\n",
    "- To perform repetition, branches and control, certain logic and statements are required in the code\n",
    "- The program becomes more complex\n",
    "- To make it easier to compile the program, it is necessary to design the program (Top-down design)\n",
    "- Program design can be made through flow charts or pseudocode\n"
   ]
  },
  {
   "cell_type": "markdown",
   "id": "5aa18d75",
   "metadata": {
    "slideshow": {
     "slide_type": "slide"
    }
   },
   "source": [
    "## Flow chart & Pseudocodes\n",
    "\n",
    "- Flowcharts: A chart consisting of symbols connected by arrows. Inside each symbol is a phrase that presents the activity at that step. The shape of the symbol indicates the type of operation that will occur\n",
    "\n",
    "- Pseudocodes: an abbreviated English version of actual computer code. A mix of English and code\n",
    "\n",
    "- THERE IS NO FIXED SYNTAX FOR PSEUDOCODE\n"
   ]
  },
  {
   "cell_type": "markdown",
   "id": "3b73813b",
   "metadata": {
    "slideshow": {
     "slide_type": "slide"
    }
   },
   "source": [
    "## Flow chart & Pseudocodes\n",
    "- Flow chart\n",
    "![](flowchrt.png)"
   ]
  },
  {
   "cell_type": "markdown",
   "id": "903f6b67",
   "metadata": {
    "slideshow": {
     "slide_type": "slide"
    }
   },
   "source": [
    "## Flow chart & Pseudocodes\n",
    "\n",
    "- Flow chart\n",
    "![](pseuodocode.png)"
   ]
  },
  {
   "cell_type": "markdown",
   "id": "bc2522bd",
   "metadata": {
    "slideshow": {
     "slide_type": "slide"
    }
   },
   "source": [
    "## Logical Operators\n",
    "![](oplog.png)"
   ]
  },
  {
   "cell_type": "markdown",
   "id": "ad9daf02",
   "metadata": {
    "slideshow": {
     "slide_type": "slide"
    }
   },
   "source": [
    "## if -; elseif; statements\n",
    "![](ifstat.png)"
   ]
  },
  {
   "cell_type": "markdown",
   "id": "841ce704",
   "metadata": {
    "slideshow": {
     "slide_type": "slide"
    }
   },
   "source": [
    "## Contoh penggunaan if-statement pada fungsi kuadrat\n",
    "\n",
    "## $$ax^2+bx+c=0$$\n",
    "\n",
    "the roots are :\n",
    "### $X_{1,2}=\\frac{-b\\pm\\sqrt{D}}{2a}$\n",
    "where\n",
    "### $D=b^2-4ac$\n"
   ]
  },
  {
   "cell_type": "markdown",
   "id": "887e03e2",
   "metadata": {
    "slideshow": {
     "slide_type": "subslide"
    }
   },
   "source": [
    "Fungsi kuadrat memiliki tiga jenis akar berdasarkan nilai D (diskriminan) :\n",
    "- if D>0 , fungsi kuadrat memiliki dua akar riil berbeda\n",
    "- if D=0, fungsi kuadarat memiliki dua akar rill sama atau kembar\n",
    "- if D<0, fungsi kuadarat memiliki memiliki akar kompleks"
   ]
  },
  {
   "cell_type": "markdown",
   "id": "35170de3",
   "metadata": {},
   "source": [
    "Kita akan membuat program untuk mengetahui akar beserta jenis akar dari persamaan kuadarat berikut :\n",
    "\n",
    "-  $x^2-4=0$\n",
    "- $x^2-6x+9=0$\n",
    "- $x^2+4x+8=0$"
   ]
  },
  {
   "cell_type": "code",
   "execution_count": 2,
   "id": "11c4c56f",
   "metadata": {
    "slideshow": {
     "slide_type": "slide"
    }
   },
   "outputs": [
    {
     "name": "stdout",
     "output_type": "stream",
     "text": [
      "Program menghitung akar persamaan kuadrat Ax^2+Bx+C=0\n",
      "Masukan nilai A =1\n",
      "Masukan nilai B =4\n",
      "Masukan nilai C =8\n",
      "Diskriminan = -16\n",
      "Akar persamaan kuadrat memiliki dua akar kompleks\n",
      "x1=-2.00+2.000i\n",
      "x2=-2.00-2.000i\n"
     ]
    }
   ],
   "source": [
    "#Program menghitung akar persamaan kuadrat\n",
    "print(\"Program menghitung akar persamaan kuadrat Ax^2+Bx+C=0\")\n",
    "a=int(input(\"Masukan nilai A =\"))\n",
    "b=int(input(\"Masukan nilai B =\"))\n",
    "c=int(input(\"Masukan nilai C =\"))\n",
    "\n",
    "#Menghitung Diskriminan\n",
    "D=b**2-4*a*c\n",
    "print(\"Diskriminan =\",D)\n",
    "\n",
    "if D>0:\n",
    "    print(\"Akar persamaan kuadarat memiliki dua akar riil berbeda\")\n",
    "    print(\"x1=\",((-b+D**0.5)/(2*a)))\n",
    "    print(\"x2=\",((-b-D**0.5)/(2*a)))\n",
    "elif D==0:\n",
    "    print(\"Akar persamaan kuadarat memiliki dua akar riil kembar\")\n",
    "    print(\"x1=x2=\",((-b+D**0.5)/(2*a)))\n",
    "elif D<0:\n",
    "    print(\"Akar persamaan kuadrat memiliki dua akar kompleks\")\n",
    "    re=-b/2*a\n",
    "    imj=abs(D)**0.5/2*a\n",
    "    print(\"x1=%.2f+%.3fi\" % (re,imj)) \n",
    "    print(\"x2=%.2f-%.3fi\" % (re,imj))"
   ]
  },
  {
   "cell_type": "markdown",
   "id": "bed5c051",
   "metadata": {
    "slideshow": {
     "slide_type": "slide"
    }
   },
   "source": [
    "### Next : Program temperature conversion"
   ]
  },
  {
   "cell_type": "code",
   "execution_count": 5,
   "id": "74462181",
   "metadata": {
    "slideshow": {
     "slide_type": "slide"
    }
   },
   "outputs": [
    {
     "name": "stdout",
     "output_type": "stream",
     "text": [
      "Temperature Conversion\n",
      "Choose one option\n",
      "1.) Conversion from Fahrenheit degree\n",
      "2.) Conversion from Celcius degree\n",
      "3.) Conversion from Reamur degree\n",
      "4.) Conversion from Kelvin\n",
      "input your option from 1 to 4 = 9000\n",
      "Sorry, your input is incorrect\n"
     ]
    }
   ],
   "source": [
    "print(\"Temperature Conversion\")\n",
    "print(\"Choose one option\")\n",
    "print(\"1.) Conversion from Fahrenheit degree\")\n",
    "print(\"2.) Conversion from Celcius degree\")\n",
    "print(\"3.) Conversion from Reamur degree\")\n",
    "print(\"4.) Conversion from Kelvin\")\n",
    "\n",
    "p=int(input('input your option from 1 to 4 = '))\n",
    "\n",
    "if p==1:\n",
    "    print('1.)Conversion from Fahrenheit degree ')\n",
    "    Tf=int(input('input temperature in Fahrenheit degree ='))\n",
    "    Tc=5/9*(Tf-32)\n",
    "    Tr=4/9*(Tf-32)\n",
    "    Tk=5/9*(Tf-32)+273.15\n",
    "    print('Temperature in Kelvin =%.3f' % (Tk))\n",
    "    print('Temperature in Reamur degree = %.3f' % (Tr))\n",
    "    print('Temperature in Celcius degree =%.3f' %(Tc))\n",
    "    \n",
    "elif p==2:\n",
    "    print('2.)Conversion from Celcius degree ')\n",
    "    Tc=int(input('input temperature in Celcius degree ='))\n",
    "    Tf=9/5*Tc+32\n",
    "    Tr=4/5*Tc\n",
    "    Tk=Tc+273.15\n",
    "    print('Temperature in Kelvin =%.3f' % (Tk))\n",
    "    print('Temperature in Reamur degree = %.3f' % (Tr))\n",
    "    print('Temperature in Fahrenheit degree =%.3f' %(Tf))\n",
    "    \n",
    "elif p==3:\n",
    "    print('3.)Conversion from Reamur degree ')\n",
    "    Tr=int(input('input temperature in Reamur degree ='))\n",
    "    Tf=9/4*Tr+32\n",
    "    Tc=5/4*Tr\n",
    "    Tk=5/4*Tr+273.15\n",
    "    print('Temperature in Kelvin =%.3f' % (Tk))\n",
    "    print('Temperature in Celcius degree = %.3f' % (Tc))\n",
    "    print('Temperature in Fahrenheit degree =%.3f' %(Tf))\n",
    "    \n",
    "        \n",
    "elif p==4:\n",
    "    print('4.)Conversion from Kelvin ')\n",
    "    Tk=int(input('input temperature in Kelvin ='))\n",
    "    Tf=9/5*(Tk-273.15)+32\n",
    "    Tc=Tk-273\n",
    "    Tr=4/5*(Tk-273.15)\n",
    "    print('Temperature in Reamur =%.3f' % (Tr))\n",
    "    print('Temperature in Celcius degree = %.3f' % (Tc))\n",
    "    print('Temperature in Fahrenheit degree =%.3f' %(Tf))\n",
    "else:\n",
    "    print('Sorry, your input is incorrect')"
   ]
  },
  {
   "cell_type": "code",
   "execution_count": null,
   "id": "571f0b93",
   "metadata": {},
   "outputs": [],
   "source": [
    "1.) silinder\n",
    "\n",
    "if p==1:\n",
    "    r=int(input('jari-jari='))\n",
    "    t=#tinggi\n",
    "    \n",
    "    A=pi*r**2\n",
    "    V=A*t\n",
    "    \n",
    "    print()"
   ]
  },
  {
   "cell_type": "markdown",
   "id": "26a2563b",
   "metadata": {
    "slideshow": {
     "slide_type": "slide"
    }
   },
   "source": [
    "Next week : controll loop (-for ; -while)\n",
    "\n"
   ]
  },
  {
   "cell_type": "markdown",
   "id": "40ad4a3f",
   "metadata": {
    "slideshow": {
     "slide_type": "slide"
    }
   },
   "source": [
    "### Thank you\n",
    "\n",
    "### dharma.arunglaby@its.ac.id"
   ]
  }
 ],
 "metadata": {
  "kernelspec": {
   "display_name": "Python 3 (ipykernel)",
   "language": "python",
   "name": "python3"
  },
  "language_info": {
   "codemirror_mode": {
    "name": "ipython",
    "version": 3
   },
   "file_extension": ".py",
   "mimetype": "text/x-python",
   "name": "python",
   "nbconvert_exporter": "python",
   "pygments_lexer": "ipython3",
   "version": "3.12.2"
  }
 },
 "nbformat": 4,
 "nbformat_minor": 5
}
