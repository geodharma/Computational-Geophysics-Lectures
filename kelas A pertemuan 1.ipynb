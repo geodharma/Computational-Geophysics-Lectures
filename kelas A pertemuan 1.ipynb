{
 "cells": [
  {
   "cell_type": "markdown",
   "id": "a7d07274",
   "metadata": {},
   "source": [
    "### Pengantar Python"
   ]
  },
  {
   "cell_type": "code",
   "execution_count": 46,
   "id": "4a280d22",
   "metadata": {},
   "outputs": [
    {
     "name": "stdout",
     "output_type": "stream",
     "text": [
      "Hello guys, perkenalkan\n",
      "Nama saya .......\n",
      "NRP 12345678\n",
      "Saya siap belajar pemrograman dengan Python\n"
     ]
    }
   ],
   "source": [
    "print('Hello guys, perkenalkan')\n",
    "print('Nama saya .......')\n",
    "print('NRP 12345678')\n",
    "print('Saya siap belajar pemrograman dengan Python')"
   ]
  },
  {
   "cell_type": "markdown",
   "id": "b2ecd1dd",
   "metadata": {},
   "source": [
    "## Importing library Numpy"
   ]
  },
  {
   "cell_type": "code",
   "execution_count": 47,
   "id": "7dbd6348",
   "metadata": {},
   "outputs": [],
   "source": [
    "import numpy as np"
   ]
  },
  {
   "cell_type": "markdown",
   "id": "2ff6805e",
   "metadata": {},
   "source": [
    "### Create an array from a Python list"
   ]
  },
  {
   "cell_type": "code",
   "execution_count": 48,
   "id": "014f6393",
   "metadata": {},
   "outputs": [
    {
     "name": "stdout",
     "output_type": "stream",
     "text": [
      "x= [1 2 3]\n"
     ]
    }
   ],
   "source": [
    "\n",
    "x= np.array([1, 2, 3])\n",
    "print('x=',x)\n",
    "\n"
   ]
  },
  {
   "cell_type": "markdown",
   "id": "b7704bda",
   "metadata": {},
   "source": [
    "### Create an array filled with zeros"
   ]
  },
  {
   "cell_type": "code",
   "execution_count": 59,
   "id": "d15351d4",
   "metadata": {},
   "outputs": [
    {
     "name": "stdout",
     "output_type": "stream",
     "text": [
      "xz= [[0. 0. 0. 0. 0. 0. 0. 0. 0. 0.]\n",
      " [0. 0. 0. 0. 0. 0. 0. 0. 0. 0.]\n",
      " [0. 0. 0. 0. 0. 0. 0. 0. 0. 0.]\n",
      " [0. 0. 0. 0. 0. 0. 0. 0. 0. 0.]\n",
      " [0. 0. 0. 0. 0. 0. 0. 0. 0. 0.]\n",
      " [0. 0. 0. 0. 0. 0. 0. 0. 0. 0.]\n",
      " [0. 0. 0. 0. 0. 0. 0. 0. 0. 0.]\n",
      " [0. 0. 0. 0. 0. 0. 0. 0. 0. 0.]\n",
      " [0. 0. 0. 0. 0. 0. 0. 0. 0. 0.]\n",
      " [0. 0. 0. 0. 0. 0. 0. 0. 0. 0.]]\n"
     ]
    }
   ],
   "source": [
    "xzero=np.zeros((10,10))\n",
    "print('xz=',xzero)"
   ]
  },
  {
   "cell_type": "markdown",
   "id": "2885af87",
   "metadata": {},
   "source": [
    "### Create an array filled with ones"
   ]
  },
  {
   "cell_type": "code",
   "execution_count": 60,
   "id": "76baf73e",
   "metadata": {},
   "outputs": [
    {
     "name": "stdout",
     "output_type": "stream",
     "text": [
      "xone =  [[1. 1. 1. 1. 1.]\n",
      " [1. 1. 1. 1. 1.]\n",
      " [1. 1. 1. 1. 1.]\n",
      " [1. 1. 1. 1. 1.]\n",
      " [1. 1. 1. 1. 1.]]\n"
     ]
    }
   ],
   "source": [
    "xone=np.ones((5, 5))\n",
    "print('xone = ', xone)"
   ]
  },
  {
   "cell_type": "markdown",
   "id": "fe074604",
   "metadata": {},
   "source": [
    "### Create an array with a range of values"
   ]
  },
  {
   "cell_type": "code",
   "execution_count": 64,
   "id": "081da017",
   "metadata": {},
   "outputs": [
    {
     "name": "stdout",
     "output_type": "stream",
     "text": [
      "xarr =  [ 0  1  2  3  4  5  6  7  8  9 10 11 12 13 14 15 16 17 18 19 20]\n"
     ]
    }
   ],
   "source": [
    "xarr=np.arange(21)\n",
    "print('xarr = ',xarr)"
   ]
  },
  {
   "cell_type": "markdown",
   "id": "a0a50310",
   "metadata": {},
   "source": [
    "### Matrix Operation"
   ]
  },
  {
   "cell_type": "code",
   "execution_count": 67,
   "id": "ce03566d",
   "metadata": {},
   "outputs": [
    {
     "name": "stdout",
     "output_type": "stream",
     "text": [
      "A=  [[ 1  2  3]\n",
      " [ 2 -1  3]\n",
      " [ 1  0  2]]\n",
      "B=  [[ 1  2  3]\n",
      " [ 2 -1  3]\n",
      " [ 1  0  2]]\n",
      "A+B =  [[ 2  3  4]\n",
      " [ 0  0  3]\n",
      " [ 2 -1  1]]\n",
      "A-B= [[ 0  1  2]\n",
      " [ 4 -2  3]\n",
      " [ 0  1  3]]\n",
      "C =  [[ 1  2  3]\n",
      " [-4 -1  0]\n",
      " [ 1  0 -2]]\n",
      "Atrans =  [[ 1  2  1]\n",
      " [ 2 -1  0]\n",
      " [ 3  3  2]]\n",
      "Ainv =  [[ 2.  4. -9.]\n",
      " [ 1.  1. -3.]\n",
      " [-1. -2.  5.]]\n"
     ]
    }
   ],
   "source": [
    "A=np.array([[1,2,3],\n",
    "           [2,-1,3],\n",
    "           [1,0,2]])\n",
    "print(\"A= \",A)\n",
    "\n",
    "B=np.array([[1,1,1],[-2,1,0],[1,-1,-1]])\n",
    "print(\"B= \",A)\n",
    "\n",
    "print('A+B = ',A+B)\n",
    "print('A-B=',A-B)\n",
    "C=A*B\n",
    "print('C = ',C)\n",
    "\n",
    "Atrans=np.transpose(A)\n",
    "Ainv=np.linalg.inv(A)\n",
    "print('Atrans = ', Atrans)\n",
    "print('Ainv = ', Ainv)"
   ]
  },
  {
   "cell_type": "code",
   "execution_count": null,
   "id": "9bd89437",
   "metadata": {},
   "outputs": [],
   "source": [
    "#indexing matriks\n",
    "A1=A[:,1]\n",
    "print('Baris satu matriks A=',A1)\n",
    "\n",
    "A_kolom2=A[0,1]\n",
    "print('Kolom dua matriks A=',A_kolom2)\n",
    "\n",
    "C=np.ones((3,3))\n",
    "print('C = ',C)"
   ]
  },
  {
   "cell_type": "code",
   "execution_count": null,
   "id": "5e81d294",
   "metadata": {},
   "outputs": [],
   "source": [
    "A.shape"
   ]
  },
  {
   "cell_type": "markdown",
   "id": "aebc6f9c",
   "metadata": {},
   "source": [
    "### Basic Indexing (1D Array):\n",
    "\n",
    "- Zero-based indexing: The first element is at index 0, the second at index 1, and so on.\n",
    "- Negative indexing: -1 refers to the last element, -2 refers to the second-last, and so on"
   ]
  },
  {
   "cell_type": "code",
   "execution_count": 70,
   "id": "ec998434",
   "metadata": {},
   "outputs": [
    {
     "name": "stdout",
     "output_type": "stream",
     "text": [
      "arr = [10 20 30 40 50]\n",
      "10\n",
      "30\n",
      "50\n"
     ]
    },
    {
     "data": {
      "text/plain": [
       "(5,)"
      ]
     },
     "execution_count": 70,
     "metadata": {},
     "output_type": "execute_result"
    }
   ],
   "source": [
    "arr = np.array([10, 20, 30, 40, 50])\n",
    "print('arr =',arr)\n",
    "print(arr[0])  # Access first element (10)\n",
    "print(arr[2])  # Access third element (30)\n",
    "print(arr[-1]) # Access last element (50)\n",
    "arr.shape"
   ]
  },
  {
   "cell_type": "markdown",
   "id": "013dc41b",
   "metadata": {},
   "source": [
    "### Indexing a 2D Array (Matrix)\n",
    "- The first index specifies the row and the second index specifies the column."
   ]
  },
  {
   "cell_type": "code",
   "execution_count": 73,
   "id": "6a1cadba",
   "metadata": {},
   "outputs": [
    {
     "name": "stdout",
     "output_type": "stream",
     "text": [
      "matrix = [[1 2 3]\n",
      " [4 5 6]\n",
      " [7 8 9]]\n",
      "1\n",
      "6\n",
      "9\n"
     ]
    },
    {
     "data": {
      "text/plain": [
       "(3, 3)"
      ]
     },
     "execution_count": 73,
     "metadata": {},
     "output_type": "execute_result"
    }
   ],
   "source": [
    "matrix = np.array([[1, 2, 3], [4, 5, 6], [7, 8, 9]])\n",
    "print('matrix =',matrix)\n",
    "print(matrix[0, 0])  # First row, first column (1)\n",
    "print(matrix[1, 2])  # Second row, third column (6)\n",
    "print(matrix[-1, -1]) # Last row, last column (9)\n",
    "matrix.shape"
   ]
  },
  {
   "cell_type": "markdown",
   "id": "ccd3624f",
   "metadata": {},
   "source": [
    "### Slicing an Array"
   ]
  },
  {
   "cell_type": "code",
   "execution_count": 79,
   "id": "26257da2",
   "metadata": {},
   "outputs": [
    {
     "name": "stdout",
     "output_type": "stream",
     "text": [
      "arr= [10 20 30 40 50]\n",
      "[20 30 40]\n",
      "[10 20 30]\n",
      "[30 40 50]\n"
     ]
    }
   ],
   "source": [
    "#for 1D array\n",
    "arr = np.array([10, 20, 30, 40, 50])\n",
    "print('arr=',arr)\n",
    "print(arr[1:4])  # Slices from index 1 to 3 (output: [20, 30, 40])\n",
    "print(arr[:3])   # Slices from start to index 2 (output: [10, 20, 30])\n",
    "print(arr[2:])   # Slices from index 2 to the end (output: [30, 40, 50])\n"
   ]
  },
  {
   "cell_type": "code",
   "execution_count": 85,
   "id": "b9f38b2d",
   "metadata": {},
   "outputs": [
    {
     "name": "stdout",
     "output_type": "stream",
     "text": [
      "[[1 2 3]\n",
      " [4 5 6]]\n",
      "[[2 3]\n",
      " [5 6]\n",
      " [8 9]]\n",
      "[4 5]\n"
     ]
    },
    {
     "data": {
      "text/plain": [
       "array([[1, 2],\n",
       "       [4, 5]])"
      ]
     },
     "execution_count": 85,
     "metadata": {},
     "output_type": "execute_result"
    }
   ],
   "source": [
    "#for 2D arrays\n",
    "matrix = np.array([[1, 2, 3], [4, 5, 6], [7, 8, 9]])\n",
    "\n",
    "# Slice the first two rows and all columns\n",
    "print(matrix[:2, :])  # Output: [[1, 2, 3], [4, 5, 6]]\n",
    "\n",
    "# Slice the last two columns of all rows\n",
    "print(matrix[:, 1:])  # Output: [[2, 3], [5, 6], [8, 9]]\n",
    "\n",
    "# Slice specific elements: second row, first two columns\n",
    "print(matrix[1, :2])  # Output: [4, 5]\n",
    "\n",
    "matrix[0:3,0:2]"
   ]
  },
  {
   "cell_type": "code",
   "execution_count": null,
   "id": "686bb96a",
   "metadata": {},
   "outputs": [],
   "source": []
  }
 ],
 "metadata": {
  "kernelspec": {
   "display_name": "Python 3 (ipykernel)",
   "language": "python",
   "name": "python3"
  },
  "language_info": {
   "codemirror_mode": {
    "name": "ipython",
    "version": 3
   },
   "file_extension": ".py",
   "mimetype": "text/x-python",
   "name": "python",
   "nbconvert_exporter": "python",
   "pygments_lexer": "ipython3",
   "version": "3.12.2"
  }
 },
 "nbformat": 4,
 "nbformat_minor": 5
}
