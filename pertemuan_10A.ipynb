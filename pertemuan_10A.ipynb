{
 "cells": [
  {
   "cell_type": "code",
   "execution_count": 9,
   "id": "4816166a",
   "metadata": {},
   "outputs": [
    {
     "data": {
      "text/html": [
       "<div>\n",
       "<style scoped>\n",
       "    .dataframe tbody tr th:only-of-type {\n",
       "        vertical-align: middle;\n",
       "    }\n",
       "\n",
       "    .dataframe tbody tr th {\n",
       "        vertical-align: top;\n",
       "    }\n",
       "\n",
       "    .dataframe thead th {\n",
       "        text-align: right;\n",
       "    }\n",
       "</style>\n",
       "<table border=\"1\" class=\"dataframe\">\n",
       "  <thead>\n",
       "    <tr style=\"text-align: right;\">\n",
       "      <th></th>\n",
       "      <th>rock density</th>\n",
       "      <th>seismic velocity</th>\n",
       "    </tr>\n",
       "  </thead>\n",
       "  <tbody>\n",
       "    <tr>\n",
       "      <th>0</th>\n",
       "      <td>2.60</td>\n",
       "      <td>4.2</td>\n",
       "    </tr>\n",
       "    <tr>\n",
       "      <th>1</th>\n",
       "      <td>2.65</td>\n",
       "      <td>4.5</td>\n",
       "    </tr>\n",
       "    <tr>\n",
       "      <th>2</th>\n",
       "      <td>2.70</td>\n",
       "      <td>4.7</td>\n",
       "    </tr>\n",
       "    <tr>\n",
       "      <th>3</th>\n",
       "      <td>2.75</td>\n",
       "      <td>4.9</td>\n",
       "    </tr>\n",
       "    <tr>\n",
       "      <th>4</th>\n",
       "      <td>2.80</td>\n",
       "      <td>5.0</td>\n",
       "    </tr>\n",
       "  </tbody>\n",
       "</table>\n",
       "</div>"
      ],
      "text/plain": [
       "   rock density  seismic velocity\n",
       "0          2.60               4.2\n",
       "1          2.65               4.5\n",
       "2          2.70               4.7\n",
       "3          2.75               4.9\n",
       "4          2.80               5.0"
      ]
     },
     "execution_count": 9,
     "metadata": {},
     "output_type": "execute_result"
    }
   ],
   "source": [
    "import pandas as pd\n",
    "\n",
    "petrophy={'rock density' :[2.60, 2.65, 2.70, 2.75, 2.80],\n",
    "          'seismic velocity' :[4.2, 4.5, 4.7, 4.9, 5.0]}\n",
    "petro_df=pd.DataFrame(petrophy)\n",
    "petro_df"
   ]
  },
  {
   "cell_type": "code",
   "execution_count": 7,
   "id": "aeb30ceb",
   "metadata": {},
   "outputs": [
    {
     "name": "stdout",
     "output_type": "stream",
     "text": [
      "Sum of x: 13.5\n",
      "Sum of x^2 : 36.475\n"
     ]
    }
   ],
   "source": [
    "import numpy as np\n",
    "\n",
    "X=np.array(petro_df['rock density'])\n",
    "y=np.array(petro_df['seismic velocity'])\n",
    "N_data=len(X)\n",
    "\n",
    "#initialize condition\n",
    "\n",
    "n=0\n",
    "sum_x=0\n",
    "sum_x2=0\n",
    "\n",
    "while n < N_data:\n",
    "    x=X[n]\n",
    "    #accumulate sums\n",
    "    \n",
    "    sum_x= sum_x + x\n",
    "    sum_x2= sum_x2 + x**2\n",
    "    x=X[n]\n",
    "    n=n+1\n",
    "# Check accumulated sums\n",
    "print(f\"Sum of x: {sum_x}\")\n",
    "print(f\"Sum of x^2 : {sum_x2}\")  "
   ]
  },
  {
   "cell_type": "code",
   "execution_count": 8,
   "id": "f2cd949d",
   "metadata": {},
   "outputs": [
    {
     "name": "stdout",
     "output_type": "stream",
     "text": [
      "----------------------------------------------------\n",
      "MEAN OF DENSITY is  2.70 g/cc\n",
      "Standard deviation of Density is  0.08\n"
     ]
    }
   ],
   "source": [
    "#Calculate the mean and standard deviation\n",
    "import math \n",
    "x_bar = sum_x / n\n",
    "std_dev = math.sqrt((n * sum_x2 - sum_x ** 2) / (n * (n - 1)))\n",
    "\n",
    "print('----------------------------------------------------')\n",
    "print(f'MEAN OF DENSITY is  {x_bar:.2f} g/cc')\n",
    "print(f'Standard deviation of Density is  {std_dev:.2f}')"
   ]
  },
  {
   "cell_type": "markdown",
   "id": "641cbc53",
   "metadata": {},
   "source": [
    "## Tugas\n",
    "1. Calculate Mean & Std of Density using for loops\n",
    "2. Calculate Mean & Std of Seismic velocity (in km/s) using while loop\n",
    "3. Do no.2 with for loops"
   ]
  },
  {
   "cell_type": "markdown",
   "id": "e6dac10c",
   "metadata": {},
   "source": [
    "## Sampel batuan"
   ]
  },
  {
   "cell_type": "code",
   "execution_count": 10,
   "id": "ec9048e8",
   "metadata": {},
   "outputs": [
    {
     "name": "stdout",
     "output_type": "stream",
     "text": [
      "Sampel B\n"
     ]
    },
    {
     "data": {
      "text/html": [
       "<div>\n",
       "<style scoped>\n",
       "    .dataframe tbody tr th:only-of-type {\n",
       "        vertical-align: middle;\n",
       "    }\n",
       "\n",
       "    .dataframe tbody tr th {\n",
       "        vertical-align: top;\n",
       "    }\n",
       "\n",
       "    .dataframe thead th {\n",
       "        text-align: right;\n",
       "    }\n",
       "</style>\n",
       "<table border=\"1\" class=\"dataframe\">\n",
       "  <thead>\n",
       "    <tr style=\"text-align: right;\">\n",
       "      <th></th>\n",
       "      <th>massa kering (gram)</th>\n",
       "      <th>massa basah (gram)</th>\n",
       "    </tr>\n",
       "  </thead>\n",
       "  <tbody>\n",
       "    <tr>\n",
       "      <th>0</th>\n",
       "      <td>270</td>\n",
       "      <td>250</td>\n",
       "    </tr>\n",
       "    <tr>\n",
       "      <th>1</th>\n",
       "      <td>271</td>\n",
       "      <td>251</td>\n",
       "    </tr>\n",
       "    <tr>\n",
       "      <th>2</th>\n",
       "      <td>271</td>\n",
       "      <td>251</td>\n",
       "    </tr>\n",
       "    <tr>\n",
       "      <th>3</th>\n",
       "      <td>270</td>\n",
       "      <td>250</td>\n",
       "    </tr>\n",
       "    <tr>\n",
       "      <th>4</th>\n",
       "      <td>270</td>\n",
       "      <td>250</td>\n",
       "    </tr>\n",
       "  </tbody>\n",
       "</table>\n",
       "</div>"
      ],
      "text/plain": [
       "   massa kering (gram)  massa basah (gram)\n",
       "0                  270                 250\n",
       "1                  271                 251\n",
       "2                  271                 251\n",
       "3                  270                 250\n",
       "4                  270                 250"
      ]
     },
     "execution_count": 10,
     "metadata": {},
     "output_type": "execute_result"
    }
   ],
   "source": [
    "import pandas as pd\n",
    "\n",
    "print('Sampel B')\n",
    "experiment={'massa kering (gram)' :[270, 271, 271, 270, 270],\n",
    "          'massa basah (gram)' :[250, 251, 251, 250, 250]}\n",
    "exp_df=pd.DataFrame(experiment)\n",
    "exp_df"
   ]
  },
  {
   "cell_type": "code",
   "execution_count": 11,
   "id": "3e07b82c",
   "metadata": {},
   "outputs": [
    {
     "name": "stdout",
     "output_type": "stream",
     "text": [
      "Massa basah rata-rata : 270.4 gram\n",
      "Massa kering rata-rata  : 250.4 gram\n"
     ]
    }
   ],
   "source": [
    "import numpy as np\n",
    "\n",
    "Mb=np.array(exp_df['massa kering (gram)'])\n",
    "Mk=np.array(exp_df['massa basah (gram)'])\n",
    "N_data=len(Mb)\n",
    "\n",
    "#initialize condition\n",
    "\n",
    "n=0\n",
    "sum_mb=0\n",
    "sum_mk=0\n",
    "\n",
    "while n < N_data:\n",
    "    mb=Mb[n]\n",
    "    mk=Mk[n]\n",
    "    #accumulate sums\n",
    "    \n",
    "    sum_mb += mb\n",
    "    sum_mk += mk\n",
    "    mb=Mb[n]\n",
    "    mk=Mk[n]\n",
    "    n +=1\n",
    "    \n",
    "massa_basah=sum_mb/N_data\n",
    "massa_kering=sum_mk/N_data\n",
    "\n",
    "# Check accumulated sums\n",
    "print(f\"Massa basah rata-rata : {massa_basah} gram\")\n",
    "print(f\"Massa kering rata-rata  : {massa_kering} gram\")  "
   ]
  },
  {
   "cell_type": "code",
   "execution_count": 12,
   "id": "0cb1e7c6",
   "metadata": {},
   "outputs": [
    {
     "name": "stdout",
     "output_type": "stream",
     "text": [
      " Pore volume : 18.69  g/cc\n",
      " Bulk volume  : 150.80 g/cc\n",
      " Average porosity of rock  : 12.40 %\n",
      "Conclusion :\n",
      "The Porosity of rock is Fair\n"
     ]
    }
   ],
   "source": [
    "#Perhitungan porositas\n",
    "import math\n",
    "\n",
    "SG=1.07\n",
    "r=2\n",
    "l=12\n",
    "\n",
    "Vp=(massa_basah-massa_kering)/SG\n",
    "Vb=(math.pi*r**2)*l\n",
    "PHI=Vp/Vb*100\n",
    "\n",
    "        \n",
    "\n",
    "print(f\" Pore volume : {Vp:.2f}  g/cc\")\n",
    "print(f\" Bulk volume  : {Vb:.2f} g/cc\")\n",
    "print(f\" Average porosity of rock  : {PHI:.2f} %\")\n",
    "\n",
    "print(\"Conclusion :\")\n",
    "\n",
    "if PHI>20:\n",
    "    print(\"The Porosity of rock is Very Good\")\n",
    "elif PHI>15:\n",
    "    print(\"The Porosity of rock is Good\")\n",
    "elif PHI>10:\n",
    "    print(\"The Porosity of rock is Fair\")\n",
    "elif PHI>5:\n",
    "    print(\"The Porosity of rock is Poor\")\n",
    "else:\n",
    "    print(\"The Porosity of rock is Negligible\")\n"
   ]
  },
  {
   "cell_type": "code",
   "execution_count": null,
   "id": "cd6faaa8",
   "metadata": {},
   "outputs": [],
   "source": []
  }
 ],
 "metadata": {
  "kernelspec": {
   "display_name": "Python 3 (ipykernel)",
   "language": "python",
   "name": "python3"
  },
  "language_info": {
   "codemirror_mode": {
    "name": "ipython",
    "version": 3
   },
   "file_extension": ".py",
   "mimetype": "text/x-python",
   "name": "python",
   "nbconvert_exporter": "python",
   "pygments_lexer": "ipython3",
   "version": "3.12.2"
  }
 },
 "nbformat": 4,
 "nbformat_minor": 5
}
