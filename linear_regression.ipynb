{
 "cells": [
  {
   "cell_type": "markdown",
   "id": "177bb16f",
   "metadata": {},
   "source": [
    "#   Computational Geophysics (CF234104)\n",
    "## Linear regression"
   ]
  },
  {
   "cell_type": "code",
   "execution_count": 2,
   "id": "858261a7",
   "metadata": {},
   "outputs": [],
   "source": [
    "import numpy as np\n",
    "import matplotlib.pyplot as plt\n",
    "import pandas as pd"
   ]
  },
  {
   "cell_type": "markdown",
   "id": "bac6ed04",
   "metadata": {},
   "source": [
    "### input data"
   ]
  },
  {
   "cell_type": "code",
   "execution_count": 20,
   "id": "507c4cef",
   "metadata": {},
   "outputs": [
    {
     "data": {
      "text/html": [
       "<div>\n",
       "<style scoped>\n",
       "    .dataframe tbody tr th:only-of-type {\n",
       "        vertical-align: middle;\n",
       "    }\n",
       "\n",
       "    .dataframe tbody tr th {\n",
       "        vertical-align: top;\n",
       "    }\n",
       "\n",
       "    .dataframe thead th {\n",
       "        text-align: right;\n",
       "    }\n",
       "</style>\n",
       "<table border=\"1\" class=\"dataframe\">\n",
       "  <thead>\n",
       "    <tr style=\"text-align: right;\">\n",
       "      <th></th>\n",
       "      <th>variabel_x</th>\n",
       "      <th>variabel_y</th>\n",
       "    </tr>\n",
       "  </thead>\n",
       "  <tbody>\n",
       "    <tr>\n",
       "      <th>0</th>\n",
       "      <td>1</td>\n",
       "      <td>-1.1631</td>\n",
       "    </tr>\n",
       "    <tr>\n",
       "      <th>1</th>\n",
       "      <td>2</td>\n",
       "      <td>-0.7883</td>\n",
       "    </tr>\n",
       "    <tr>\n",
       "      <th>2</th>\n",
       "      <td>3</td>\n",
       "      <td>-0.6829</td>\n",
       "    </tr>\n",
       "    <tr>\n",
       "      <th>3</th>\n",
       "      <td>4</td>\n",
       "      <td>-0.2169</td>\n",
       "    </tr>\n",
       "    <tr>\n",
       "      <th>4</th>\n",
       "      <td>5</td>\n",
       "      <td>0.0659</td>\n",
       "    </tr>\n",
       "    <tr>\n",
       "      <th>5</th>\n",
       "      <td>6</td>\n",
       "      <td>0.2946</td>\n",
       "    </tr>\n",
       "    <tr>\n",
       "      <th>6</th>\n",
       "      <td>7</td>\n",
       "      <td>0.6483</td>\n",
       "    </tr>\n",
       "    <tr>\n",
       "      <th>7</th>\n",
       "      <td>8</td>\n",
       "      <td>0.9971</td>\n",
       "    </tr>\n",
       "  </tbody>\n",
       "</table>\n",
       "</div>"
      ],
      "text/plain": [
       "   variabel_x  variabel_y\n",
       "0           1     -1.1631\n",
       "1           2     -0.7883\n",
       "2           3     -0.6829\n",
       "3           4     -0.2169\n",
       "4           5      0.0659\n",
       "5           6      0.2946\n",
       "6           7      0.6483\n",
       "7           8      0.9971"
      ]
     },
     "execution_count": 20,
     "metadata": {},
     "output_type": "execute_result"
    }
   ],
   "source": [
    "data={'variabel_x' :[1, 2, 3, 4, 5, 6, 7, 8],\n",
    "          'variabel_y' :[-1.1631,  -0.7883,  -0.6829, -0.2169, 0.0659, 0.2946, 0.6483, 0.9971 ]}\n",
    "datset=pd.DataFrame(data)\n",
    "datset"
   ]
  },
  {
   "cell_type": "code",
   "execution_count": 21,
   "id": "aa440ec5",
   "metadata": {},
   "outputs": [
    {
     "data": {
      "image/png": "[encoded data removed]",
      "text/plain": [
       "<Figure size 640x480 with 1 Axes>"
      ]
     },
     "metadata": {},
     "output_type": "display_data"
    }
   ],
   "source": [
    "X=np.array(datset['variabel_x'])\n",
    "Y=np.array(datset['variabel_y'])\n",
    "plt.plot(X,Y,'r*')\n",
    "plt.xlabel('Variabel X',fontsize=12)\n",
    "plt.ylabel('Variabel Y',fontsize=12)\n",
    "plt.title('Plot data Variabel X & Variabel Y',fontsize=14)\n",
    "plt.grid()\n",
    "plt.show()"
   ]
  },
  {
   "cell_type": "markdown",
   "id": "dc277986",
   "metadata": {},
   "source": [
    "### fitting data set with a straight line\n",
    "\n",
    "#### stright line equation :\n",
    "$y=m*x+b$\n",
    "- m : slope\n",
    "- b : intercept\n",
    "\n",
    "$$m=\\frac{\\Sigma{xy}-\\Sigma{x}\\bar{y}}{\\Sigma{x^2}-\\Sigma{x}\\bar{x}}$$\n",
    "\n",
    "$$b=\\bar{y}-m\\bar{x}$$"
   ]
  },
  {
   "cell_type": "code",
   "execution_count": 48,
   "id": "f63ad5ec",
   "metadata": {},
   "outputs": [
    {
     "name": "stdout",
     "output_type": "stream",
     "text": [
      "slope =  0.304\n",
      "intercept =  -1.473\n"
     ]
    }
   ],
   "source": [
    "n_data=len(X)\n",
    "\n",
    "#initial condition\n",
    "sum_x=0\n",
    "sum_x2=0\n",
    "sum_y=0\n",
    "sum_xy=0\n",
    "\n",
    "#accumulate all of sums/sigmas\n",
    "#for i in range(n_data):\n",
    "i=0\n",
    "while i<n_data:\n",
    "    sum_x=sum_x+X[i]\n",
    "    sum_y=sum_y+Y[i]\n",
    "    sum_x2=sum_x2+X[i]**2\n",
    "    sum_xy=sum_xy+X[i]*Y[i]\n",
    "    i+=1\n",
    "    \n",
    "x_bar=sum_x/n_data\n",
    "y_bar=sum_y/n_data\n",
    "\n",
    "#calculate m & b\n",
    "m=(sum_xy-sum_x*y_bar)/(sum_x2-sum_x*x_bar)\n",
    "b=y_bar-m*x_bar\n",
    "\n",
    "\n",
    "print(f\"slope = \", round(m,3))\n",
    "print(f\"intercept = \",round(b,3))"
   ]
  },
  {
   "cell_type": "markdown",
   "id": "7073152c",
   "metadata": {},
   "source": [
    "### plotting data and the straight line"
   ]
  },
  {
   "cell_type": "code",
   "execution_count": 44,
   "id": "0c775af0",
   "metadata": {},
   "outputs": [
    {
     "data": {
      "image/png": "[encoded data removed]",
      "text/plain": [
       "<Figure size 640x480 with 1 Axes>"
      ]
     },
     "metadata": {},
     "output_type": "display_data"
    }
   ],
   "source": [
    "plt.plot(X,Y,'r*',linewidth=3)\n",
    "\n",
    "xmin=np.min(X)\n",
    "xmax=np.max(X)\n",
    "ymin=m*xmin+b\n",
    "ymax=m*xmax+b\n",
    "plt.plot([xmin, xmax],[ymin, ymax],'k-',linewidth=1.5)\n",
    "\n",
    "plt.xlabel('Variabel X',fontsize=12)\n",
    "plt.ylabel('Variabel Y',fontsize=12)\n",
    "plt.title('Plot data with the fittest stright line',fontsize=14)\n",
    "plt.grid()\n",
    "plt.show()"
   ]
  },
  {
   "cell_type": "markdown",
   "id": "c377a595",
   "metadata": {},
   "source": [
    "#### Prediction\n",
    "\n",
    "nilai variabel Y, saat x=10, dan x=12"
   ]
  },
  {
   "cell_type": "code",
   "execution_count": 43,
   "id": "fdb21beb",
   "metadata": {},
   "outputs": [
    {
     "name": "stdout",
     "output_type": "stream",
     "text": [
      "Nilai variabel Y, saat x=10 adalah  1.565\n",
      "Nilai variabel Y, saat x=12 adalah  2.173\n"
     ]
    }
   ],
   "source": [
    "print('Nilai variabel Y, saat x=10 adalah ',round(m*10+b,3))\n",
    "print('Nilai variabel Y, saat x=12 adalah ',round(m*12+b,3))"
   ]
  },
  {
   "cell_type": "markdown",
   "id": "9f4fda0f",
   "metadata": {},
   "source": [
    "## Latihan!\n",
    "\n",
    "Lakukanlah fitting garis lurus dari data berikut. Dan estimasi nilai "
   ]
  },
  {
   "cell_type": "code",
   "execution_count": 49,
   "id": "85e35416",
   "metadata": {},
   "outputs": [
    {
     "data": {
      "text/html": [
       "<div>\n",
       "<style scoped>\n",
       "    .dataframe tbody tr th:only-of-type {\n",
       "        vertical-align: middle;\n",
       "    }\n",
       "\n",
       "    .dataframe tbody tr th {\n",
       "        vertical-align: top;\n",
       "    }\n",
       "\n",
       "    .dataframe thead th {\n",
       "        text-align: right;\n",
       "    }\n",
       "</style>\n",
       "<table border=\"1\" class=\"dataframe\">\n",
       "  <thead>\n",
       "    <tr style=\"text-align: right;\">\n",
       "      <th></th>\n",
       "      <th>rock density</th>\n",
       "      <th>seismic velocity</th>\n",
       "    </tr>\n",
       "  </thead>\n",
       "  <tbody>\n",
       "    <tr>\n",
       "      <th>0</th>\n",
       "      <td>2.60</td>\n",
       "      <td>4.2</td>\n",
       "    </tr>\n",
       "    <tr>\n",
       "      <th>1</th>\n",
       "      <td>2.65</td>\n",
       "      <td>4.5</td>\n",
       "    </tr>\n",
       "    <tr>\n",
       "      <th>2</th>\n",
       "      <td>2.70</td>\n",
       "      <td>4.7</td>\n",
       "    </tr>\n",
       "    <tr>\n",
       "      <th>3</th>\n",
       "      <td>2.75</td>\n",
       "      <td>4.9</td>\n",
       "    </tr>\n",
       "    <tr>\n",
       "      <th>4</th>\n",
       "      <td>2.80</td>\n",
       "      <td>5.0</td>\n",
       "    </tr>\n",
       "  </tbody>\n",
       "</table>\n",
       "</div>"
      ],
      "text/plain": [
       "   rock density  seismic velocity\n",
       "0          2.60               4.2\n",
       "1          2.65               4.5\n",
       "2          2.70               4.7\n",
       "3          2.75               4.9\n",
       "4          2.80               5.0"
      ]
     },
     "execution_count": 49,
     "metadata": {},
     "output_type": "execute_result"
    }
   ],
   "source": [
    "petrophy={'rock density' :[2.60, 2.65, 2.70, 2.75, 2.80],\n",
    "          'seismic velocity' :[4.2, 4.5, 4.7, 4.9, 5.0]}\n",
    "petro_df=pd.DataFrame(petrophy)\n",
    "petro_df"
   ]
  },
  {
   "cell_type": "code",
   "execution_count": null,
   "id": "c04b8094",
   "metadata": {},
   "outputs": [],
   "source": []
  }
 ],
 "metadata": {
  "kernelspec": {
   "display_name": "Python 3 (ipykernel)",
   "language": "python",
   "name": "python3"
  },
  "language_info": {
   "codemirror_mode": {
    "name": "ipython",
    "version": 3
   },
   "file_extension": ".py",
   "mimetype": "text/x-python",
   "name": "python",
   "nbconvert_exporter": "python",
   "pygments_lexer": "ipython3",
   "version": "3.12.2"
  }
 },
 "nbformat": 4,
 "nbformat_minor": 5
}
