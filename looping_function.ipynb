{
 "cells": [
  {
   "cell_type": "markdown",
   "id": "a58cbb76",
   "metadata": {
    "slideshow": {
     "slide_type": "slide"
    }
   },
   "source": [
    "#  Computational Geophysics (CF234104)\n",
    "\n",
    "\n",
    "### Looping (Iteration) & Function\n",
    "\n"
   ]
  },
  {
   "cell_type": "markdown",
   "id": "ec4481b7",
   "metadata": {
    "slideshow": {
     "slide_type": "slide"
    }
   },
   "source": [
    "## Outline\n",
    "- Introduction to looping\n",
    "- Types of looping in Python\n",
    "- functions\n",
    "- Implementation\n"
   ]
  },
  {
   "cell_type": "markdown",
   "id": "4742d331",
   "metadata": {
    "slideshow": {
     "slide_type": "slide"
    }
   },
   "source": [
    "## Introduction to looping\n",
    "\n",
    "- In addition to branching for decision making, computers can be programmed to perform repeated commands\n",
    "\n",
    "- In numerical computing, repetition is done to improve estimation results etc.\n",
    "\n",
    "- This repetition is called iteration/looping"
   ]
  },
  {
   "cell_type": "markdown",
   "id": "da69d19d",
   "metadata": {
    "slideshow": {
     "slide_type": "slide"
    }
   },
   "source": [
    "## Introduction to looping\n",
    "- Definition: A way to repeat a block of code multiple times\n",
    "- Why Looping?\n",
    "    - Automates repetitive tasks\n",
    "    - Makes the code efficient and concise\n",
    "- Types:\n",
    "    - for loop\n",
    "    - while loop"
   ]
  },
  {
   "cell_type": "code",
   "execution_count": null,
   "id": "d57840cf",
   "metadata": {},
   "outputs": [],
   "source": []
  },
  {
   "cell_type": "markdown",
   "id": "69b1fa3e",
   "metadata": {
    "slideshow": {
     "slide_type": "fragment"
    }
   },
   "source": [
    "## Introduction to looping\n",
    "![](flowchrt.png)\n"
   ]
  },
  {
   "cell_type": "markdown",
   "id": "73bb4ac1",
   "metadata": {
    "slideshow": {
     "slide_type": "slide"
    }
   },
   "source": [
    "## While loops\n",
    "\n",
    "a block of statements that are repeated indefinitely as long as\n",
    "some condition is satisfied\n",
    "\n",
    "- while condition:\n",
    "\n",
    "    #block of code"
   ]
  },
  {
   "cell_type": "markdown",
   "id": "8721bcf2",
   "metadata": {
    "slideshow": {
     "slide_type": "slide"
    }
   },
   "source": [
    "## for loops\n",
    "a loop that executes a block of statements a specified number of\n",
    "times. The for loop has the form :\n",
    " - for variable in iterable:\n",
    "      \n",
    "     \n",
    "      #block of code"
   ]
  },
  {
   "cell_type": "markdown",
   "id": "4ba703a3",
   "metadata": {
    "slideshow": {
     "slide_type": "slide"
    }
   },
   "source": [
    "Example:\n",
    "    We want to convert tempertures from Celcius to Farhenheit from -20 to 40 Celcius degree."
   ]
  },
  {
   "cell_type": "code",
   "execution_count": 1,
   "id": "1ffa2c2a",
   "metadata": {
    "slideshow": {
     "slide_type": "slide"
    }
   },
   "outputs": [
    {
     "name": "stdout",
     "output_type": "stream",
     "text": [
      "C= -20 -> F= -4.0\n",
      "C= -15 -> F= 5.0\n",
      "C= -10 -> F= 14.0\n",
      "C= -5 -> F= 23.0\n",
      "C= 0 -> F= 32.0\n",
      "C= 5 -> F= 41.0\n",
      "C= 10 -> F= 50.0\n",
      "C= 15 -> F= 59.0\n",
      "C= 20 -> F= 68.0\n",
      "C= 25 -> F= 77.0\n",
      "C= 30 -> F= 86.0\n",
      "C= 35 -> F= 95.0\n",
      "C= 40 -> F= 104.0\n"
     ]
    }
   ],
   "source": [
    "#Example without loop\n",
    "C=-20; F=9.0/5*C+32; print (\"C=\",C,\"->\",\"F=\",F)\n",
    "C=-15; F=9.0/5*C+32; print(\"C=\",C,\"->\",\"F=\",F)\n",
    "C=-10; F=9.0/5*C+32; print(\"C=\",C,\"->\",\"F=\",F) \n",
    "C= -5; F=9.0/5*C+32; print(\"C=\",C,\"->\",\"F=\",F) \n",
    "C= 0; F=9.0/5*C+32; print(\"C=\",C,\"->\",\"F=\",F) \n",
    "C= 5; F=9.0/5*C+32; print(\"C=\",C,\"->\",\"F=\",F) \n",
    "C= 10; F=9.0/5*C+32; print(\"C=\",C,\"->\",\"F=\",F)\n",
    "C= 15; F=9.0/5*C+32; print(\"C=\",C,\"->\",\"F=\",F) \n",
    "C= 20; F=9.0/5*C+32; print(\"C=\",C,\"->\",\"F=\",F) \n",
    "C= 25; F=9.0/5*C+32; print(\"C=\",C,\"->\",\"F=\",F) \n",
    "C= 30; F=9.0/5*C+32; print(\"C=\",C,\"->\",\"F=\",F) \n",
    "C= 35; F=9.0/5*C+32; print(\"C=\",C,\"->\",\"F=\",F) \n",
    "C= 40; F=9.0/5*C+32; print(\"C=\",C,\"->\",\"F=\",F)\n"
   ]
  },
  {
   "cell_type": "code",
   "execution_count": 5,
   "id": "86f5454a",
   "metadata": {
    "slideshow": {
     "slide_type": "slide"
    }
   },
   "outputs": [
    {
     "name": "stdout",
     "output_type": "stream",
     "text": [
      "C= -25 -> F= -13.0\n",
      "C= -20 -> F= -4.0\n",
      "C= -15 -> F= 5.0\n",
      "C= -10 -> F= 14.0\n",
      "C= -5 -> F= 23.0\n",
      "C= 0 -> F= 32.0\n",
      "C= 5 -> F= 41.0\n",
      "C= 10 -> F= 50.0\n",
      "C= 15 -> F= 59.0\n",
      "C= 20 -> F= 68.0\n",
      "C= 25 -> F= 77.0\n",
      "C= 30 -> F= 86.0\n",
      "C= 35 -> F= 95.0\n"
     ]
    }
   ],
   "source": [
    "#using while loop\n",
    "C=-25\n",
    "dC=5\n",
    "while C<40:\n",
    "    F=9.0/5*C+32\n",
    "    \n",
    "    print(\"C=\",C,\"->\",\"F=\",F)\n",
    "    C=C+dC"
   ]
  },
  {
   "cell_type": "code",
   "execution_count": 7,
   "id": "3ed71289",
   "metadata": {
    "slideshow": {
     "slide_type": "slide"
    }
   },
   "outputs": [
    {
     "name": "stdout",
     "output_type": "stream",
     "text": [
      "C= -25 -> F= -13.0\n",
      "C= -20 -> F= -4.0\n",
      "C= -15 -> F= 5.0\n",
      "C= -10 -> F= 14.0\n",
      "C= -5 -> F= 23.0\n",
      "C= 0 -> F= 32.0\n",
      "C= 5 -> F= 41.0\n",
      "C= 10 -> F= 50.0\n",
      "C= 15 -> F= 59.0\n",
      "C= 20 -> F= 68.0\n",
      "C= 25 -> F= 77.0\n",
      "C= 30 -> F= 86.0\n",
      "C= 35 -> F= 95.0\n",
      "C= 40 -> F= 104.0\n"
     ]
    }
   ],
   "source": [
    "#using for loop\n",
    "import numpy as np\n",
    "Cdeg=np.arange(-25,45,5)\n",
    "Cdeg\n",
    "\n",
    "for C in Cdeg:\n",
    "    F=9.0/5*C+32\n",
    "    print (\"C=\",C,\"->\",\"F=\",F)\n"
   ]
  },
  {
   "cell_type": "markdown",
   "id": "4fcc36cd",
   "metadata": {
    "slideshow": {
     "slide_type": "slide"
    }
   },
   "source": [
    "## Loop Controll Statement\n",
    "- break: Terminates the loop prematurely\n",
    "- continue: Skips the current iteration and moves to the next one\n",
    "- pass: Placeholder to maintain the structure of the code"
   ]
  },
  {
   "cell_type": "markdown",
   "id": "c7594077",
   "metadata": {
    "slideshow": {
     "slide_type": "slide"
    }
   },
   "source": [
    "## Functions\n",
    "- A block of reusable code that performs a specific task.\n",
    "- Why use functions?\n",
    "    - Increases code modularity\n",
    "    - Avoids repetition\n",
    "    - Improves readability and maintainability\n",
    "\n",
    "syntax :\n",
    " \n",
    "   def function_name(parameters):\n",
    "    \n",
    "    # block of code\n",
    "    return value\n"
   ]
  },
  {
   "cell_type": "code",
   "execution_count": 8,
   "id": "1c041544",
   "metadata": {
    "slideshow": {
     "slide_type": "slide"
    }
   },
   "outputs": [
    {
     "name": "stdout",
     "output_type": "stream",
     "text": [
      "20.00 Celcius degree = 68.00 Farhenheit degree\n",
      "100.00 Celcius degree = 212.00 Farhenheit degree\n",
      "80.00 Celcius degree = 176.00 Farhenheit degree\n"
     ]
    }
   ],
   "source": [
    "def CtF(Cdeg):\n",
    "    F=9.0/5*Cdeg+32\n",
    "    print('%.2f Celcius degree = %.2f Farhenheit degree' % (Cdeg,F))\n",
    "    \n",
    "    \n",
    "CtF(20)\n",
    "CtF(100)\n",
    "CtF(80)"
   ]
  },
  {
   "cell_type": "code",
   "execution_count": 9,
   "id": "92eadca3",
   "metadata": {},
   "outputs": [
    {
     "name": "stdout",
     "output_type": "stream",
     "text": [
      "-20.00 Celcius degree = -4.00 Farhenheit degree\n",
      "-15.00 Celcius degree = 5.00 Farhenheit degree\n",
      "-10.00 Celcius degree = 14.00 Farhenheit degree\n",
      "-5.00 Celcius degree = 23.00 Farhenheit degree\n",
      "0.00 Celcius degree = 32.00 Farhenheit degree\n",
      "5.00 Celcius degree = 41.00 Farhenheit degree\n",
      "10.00 Celcius degree = 50.00 Farhenheit degree\n",
      "15.00 Celcius degree = 59.00 Farhenheit degree\n",
      "20.00 Celcius degree = 68.00 Farhenheit degree\n",
      "25.00 Celcius degree = 77.00 Farhenheit degree\n",
      "30.00 Celcius degree = 86.00 Farhenheit degree\n",
      "35.00 Celcius degree = 95.00 Farhenheit degree\n",
      "40.00 Celcius degree = 104.00 Farhenheit degree\n"
     ]
    }
   ],
   "source": [
    "#Combining loops and functions\n",
    "def CtF(Cdeg):\n",
    "    for C in Cdeg:\n",
    "        F=9.0/5*C+32\n",
    "        print('%.2f Celcius degree = %.2f Farhenheit degree' % (C,F))\n",
    "        \n",
    "import numpy as np\n",
    "Cdeg=np.arange(-20,45,5)\n",
    "CtF(Cdeg)\n"
   ]
  },
  {
   "cell_type": "markdown",
   "id": "f3a912f6",
   "metadata": {
    "slideshow": {
     "slide_type": "slide"
    }
   },
   "source": [
    "## Calculating  Mean and standard deviation\n",
    "using while- and for- loop "
   ]
  },
  {
   "cell_type": "markdown",
   "id": "c27dbfe1",
   "metadata": {
    "slideshow": {
     "slide_type": "slide"
    }
   },
   "source": [
    "Equation :\n",
    "    ![](Meanstd.png)"
   ]
  },
  {
   "cell_type": "markdown",
   "id": "2cbe652d",
   "metadata": {
    "slideshow": {
     "slide_type": "slide"
    }
   },
   "source": [
    "\n",
    "![](pseudocode.png)"
   ]
  },
  {
   "cell_type": "markdown",
   "id": "4ec15d55",
   "metadata": {
    "slideshow": {
     "slide_type": "slide"
    }
   },
   "source": [
    "## Dataset"
   ]
  },
  {
   "cell_type": "code",
   "execution_count": 19,
   "id": "b83b8fe8",
   "metadata": {},
   "outputs": [
    {
     "ename": "AttributeError",
     "evalue": "partially initialized module 'pandas' has no attribute '_pandas_parser_CAPI' (most likely due to a circular import)",
     "output_type": "error",
     "traceback": [
      "\u001b[0;31m---------------------------------------------------------------------------\u001b[0m",
      "\u001b[0;31mAttributeError\u001b[0m                            Traceback (most recent call last)",
      "Cell \u001b[0;32mIn[19], line 1\u001b[0m\n\u001b[0;32m----> 1\u001b[0m \u001b[38;5;28;01mimport\u001b[39;00m \u001b[38;5;21;01mpandas\u001b[39;00m \u001b[38;5;28;01mas\u001b[39;00m \u001b[38;5;21;01mpd\u001b[39;00m\n\u001b[1;32m      3\u001b[0m petrophy\u001b[38;5;241m=\u001b[39m{\u001b[38;5;124m'\u001b[39m\u001b[38;5;124mrock density\u001b[39m\u001b[38;5;124m'\u001b[39m :[\u001b[38;5;241m2.60\u001b[39m, \u001b[38;5;241m2.65\u001b[39m, \u001b[38;5;241m2.70\u001b[39m, \u001b[38;5;241m2.75\u001b[39m, \u001b[38;5;241m2.80\u001b[39m],\n\u001b[1;32m      4\u001b[0m           \u001b[38;5;124m'\u001b[39m\u001b[38;5;124mseismic velocity\u001b[39m\u001b[38;5;124m'\u001b[39m :[\u001b[38;5;241m4.2\u001b[39m, \u001b[38;5;241m4.5\u001b[39m, \u001b[38;5;241m4.7\u001b[39m, \u001b[38;5;241m4.9\u001b[39m, \u001b[38;5;241m5.0\u001b[39m]}\n\u001b[1;32m      5\u001b[0m petro_df\u001b[38;5;241m=\u001b[39mpd\u001b[38;5;241m.\u001b[39mDataFrame(petrophy)\n",
      "File \u001b[0;32m/opt/anaconda3/lib/python3.12/site-packages/pandas/__init__.py:138\u001b[0m\n\u001b[1;32m    119\u001b[0m \u001b[38;5;28;01mfrom\u001b[39;00m \u001b[38;5;21;01mpandas\u001b[39;00m\u001b[38;5;21;01m.\u001b[39;00m\u001b[38;5;21;01mcore\u001b[39;00m\u001b[38;5;21;01m.\u001b[39;00m\u001b[38;5;21;01mcomputation\u001b[39;00m\u001b[38;5;21;01m.\u001b[39;00m\u001b[38;5;21;01mapi\u001b[39;00m \u001b[38;5;28;01mimport\u001b[39;00m \u001b[38;5;28meval\u001b[39m\n\u001b[1;32m    121\u001b[0m \u001b[38;5;28;01mfrom\u001b[39;00m \u001b[38;5;21;01mpandas\u001b[39;00m\u001b[38;5;21;01m.\u001b[39;00m\u001b[38;5;21;01mcore\u001b[39;00m\u001b[38;5;21;01m.\u001b[39;00m\u001b[38;5;21;01mreshape\u001b[39;00m\u001b[38;5;21;01m.\u001b[39;00m\u001b[38;5;21;01mapi\u001b[39;00m \u001b[38;5;28;01mimport\u001b[39;00m (\n\u001b[1;32m    122\u001b[0m     concat,\n\u001b[1;32m    123\u001b[0m     lreshape,\n\u001b[0;32m   (...)\u001b[0m\n\u001b[1;32m    135\u001b[0m     qcut,\n\u001b[1;32m    136\u001b[0m )\n\u001b[0;32m--> 138\u001b[0m \u001b[38;5;28;01mfrom\u001b[39;00m \u001b[38;5;21;01mpandas\u001b[39;00m \u001b[38;5;28;01mimport\u001b[39;00m api, arrays, errors, io, plotting, tseries\n\u001b[1;32m    139\u001b[0m \u001b[38;5;28;01mfrom\u001b[39;00m \u001b[38;5;21;01mpandas\u001b[39;00m \u001b[38;5;28;01mimport\u001b[39;00m testing\n\u001b[1;32m    140\u001b[0m \u001b[38;5;28;01mfrom\u001b[39;00m \u001b[38;5;21;01mpandas\u001b[39;00m\u001b[38;5;21;01m.\u001b[39;00m\u001b[38;5;21;01mutil\u001b[39;00m\u001b[38;5;21;01m.\u001b[39;00m\u001b[38;5;21;01m_print_versions\u001b[39;00m \u001b[38;5;28;01mimport\u001b[39;00m show_versions\n",
      "File \u001b[0;32m/opt/anaconda3/lib/python3.12/site-packages/pandas/api/__init__.py:2\u001b[0m\n\u001b[1;32m      1\u001b[0m \u001b[38;5;124;03m\"\"\" public toolkit API \"\"\"\u001b[39;00m\n\u001b[0;32m----> 2\u001b[0m \u001b[38;5;28;01mfrom\u001b[39;00m \u001b[38;5;21;01mpandas\u001b[39;00m\u001b[38;5;21;01m.\u001b[39;00m\u001b[38;5;21;01mapi\u001b[39;00m \u001b[38;5;28;01mimport\u001b[39;00m (\n\u001b[1;32m      3\u001b[0m     extensions,\n\u001b[1;32m      4\u001b[0m     indexers,\n\u001b[1;32m      5\u001b[0m     interchange,\n\u001b[1;32m      6\u001b[0m     types,\n\u001b[1;32m      7\u001b[0m     typing,\n\u001b[1;32m      8\u001b[0m )\n\u001b[1;32m     10\u001b[0m __all__ \u001b[38;5;241m=\u001b[39m [\n\u001b[1;32m     11\u001b[0m     \u001b[38;5;124m\"\u001b[39m\u001b[38;5;124minterchange\u001b[39m\u001b[38;5;124m\"\u001b[39m,\n\u001b[1;32m     12\u001b[0m     \u001b[38;5;124m\"\u001b[39m\u001b[38;5;124mextensions\u001b[39m\u001b[38;5;124m\"\u001b[39m,\n\u001b[0;32m   (...)\u001b[0m\n\u001b[1;32m     15\u001b[0m     \u001b[38;5;124m\"\u001b[39m\u001b[38;5;124mtyping\u001b[39m\u001b[38;5;124m\"\u001b[39m,\n\u001b[1;32m     16\u001b[0m ]\n",
      "File \u001b[0;32m/opt/anaconda3/lib/python3.12/site-packages/pandas/api/typing/__init__.py:31\u001b[0m\n\u001b[1;32m     19\u001b[0m \u001b[38;5;28;01mfrom\u001b[39;00m \u001b[38;5;21;01mpandas\u001b[39;00m\u001b[38;5;21;01m.\u001b[39;00m\u001b[38;5;21;01mcore\u001b[39;00m\u001b[38;5;21;01m.\u001b[39;00m\u001b[38;5;21;01mwindow\u001b[39;00m \u001b[38;5;28;01mimport\u001b[39;00m (\n\u001b[1;32m     20\u001b[0m     Expanding,\n\u001b[1;32m     21\u001b[0m     ExpandingGroupby,\n\u001b[0;32m   (...)\u001b[0m\n\u001b[1;32m     26\u001b[0m     Window,\n\u001b[1;32m     27\u001b[0m )\n\u001b[1;32m     29\u001b[0m \u001b[38;5;66;03m# TODO: Can't import Styler without importing jinja2\u001b[39;00m\n\u001b[1;32m     30\u001b[0m \u001b[38;5;66;03m# from pandas.io.formats.style import Styler\u001b[39;00m\n\u001b[0;32m---> 31\u001b[0m \u001b[38;5;28;01mfrom\u001b[39;00m \u001b[38;5;21;01mpandas\u001b[39;00m\u001b[38;5;21;01m.\u001b[39;00m\u001b[38;5;21;01mio\u001b[39;00m\u001b[38;5;21;01m.\u001b[39;00m\u001b[38;5;21;01mjson\u001b[39;00m\u001b[38;5;21;01m.\u001b[39;00m\u001b[38;5;21;01m_json\u001b[39;00m \u001b[38;5;28;01mimport\u001b[39;00m JsonReader\n\u001b[1;32m     32\u001b[0m \u001b[38;5;28;01mfrom\u001b[39;00m \u001b[38;5;21;01mpandas\u001b[39;00m\u001b[38;5;21;01m.\u001b[39;00m\u001b[38;5;21;01mio\u001b[39;00m\u001b[38;5;21;01m.\u001b[39;00m\u001b[38;5;21;01mstata\u001b[39;00m \u001b[38;5;28;01mimport\u001b[39;00m StataReader\n\u001b[1;32m     34\u001b[0m __all__ \u001b[38;5;241m=\u001b[39m [\n\u001b[1;32m     35\u001b[0m     \u001b[38;5;124m\"\u001b[39m\u001b[38;5;124mDataFrameGroupBy\u001b[39m\u001b[38;5;124m\"\u001b[39m,\n\u001b[1;32m     36\u001b[0m     \u001b[38;5;124m\"\u001b[39m\u001b[38;5;124mDatetimeIndexResamplerGroupby\u001b[39m\u001b[38;5;124m\"\u001b[39m,\n\u001b[0;32m   (...)\u001b[0m\n\u001b[1;32m     54\u001b[0m     \u001b[38;5;124m\"\u001b[39m\u001b[38;5;124mWindow\u001b[39m\u001b[38;5;124m\"\u001b[39m,\n\u001b[1;32m     55\u001b[0m ]\n",
      "File \u001b[0;32m/opt/anaconda3/lib/python3.12/site-packages/pandas/io/json/__init__.py:1\u001b[0m\n\u001b[0;32m----> 1\u001b[0m \u001b[38;5;28;01mfrom\u001b[39;00m \u001b[38;5;21;01mpandas\u001b[39;00m\u001b[38;5;21;01m.\u001b[39;00m\u001b[38;5;21;01mio\u001b[39;00m\u001b[38;5;21;01m.\u001b[39;00m\u001b[38;5;21;01mjson\u001b[39;00m\u001b[38;5;21;01m.\u001b[39;00m\u001b[38;5;21;01m_json\u001b[39;00m \u001b[38;5;28;01mimport\u001b[39;00m (\n\u001b[1;32m      2\u001b[0m     read_json,\n\u001b[1;32m      3\u001b[0m     to_json,\n\u001b[1;32m      4\u001b[0m     ujson_dumps,\n\u001b[1;32m      5\u001b[0m     ujson_loads,\n\u001b[1;32m      6\u001b[0m )\n\u001b[1;32m      7\u001b[0m \u001b[38;5;28;01mfrom\u001b[39;00m \u001b[38;5;21;01mpandas\u001b[39;00m\u001b[38;5;21;01m.\u001b[39;00m\u001b[38;5;21;01mio\u001b[39;00m\u001b[38;5;21;01m.\u001b[39;00m\u001b[38;5;21;01mjson\u001b[39;00m\u001b[38;5;21;01m.\u001b[39;00m\u001b[38;5;21;01m_table_schema\u001b[39;00m \u001b[38;5;28;01mimport\u001b[39;00m build_table_schema\n\u001b[1;32m      9\u001b[0m __all__ \u001b[38;5;241m=\u001b[39m [\n\u001b[1;32m     10\u001b[0m     \u001b[38;5;124m\"\u001b[39m\u001b[38;5;124mujson_dumps\u001b[39m\u001b[38;5;124m\"\u001b[39m,\n\u001b[1;32m     11\u001b[0m     \u001b[38;5;124m\"\u001b[39m\u001b[38;5;124mujson_loads\u001b[39m\u001b[38;5;124m\"\u001b[39m,\n\u001b[0;32m   (...)\u001b[0m\n\u001b[1;32m     14\u001b[0m     \u001b[38;5;124m\"\u001b[39m\u001b[38;5;124mbuild_table_schema\u001b[39m\u001b[38;5;124m\"\u001b[39m,\n\u001b[1;32m     15\u001b[0m ]\n",
      "File \u001b[0;32m/opt/anaconda3/lib/python3.12/site-packages/pandas/io/json/_json.py:71\u001b[0m\n\u001b[1;32m     66\u001b[0m \u001b[38;5;28;01mfrom\u001b[39;00m \u001b[38;5;21;01mpandas\u001b[39;00m\u001b[38;5;21;01m.\u001b[39;00m\u001b[38;5;21;01mio\u001b[39;00m\u001b[38;5;21;01m.\u001b[39;00m\u001b[38;5;21;01mjson\u001b[39;00m\u001b[38;5;21;01m.\u001b[39;00m\u001b[38;5;21;01m_normalize\u001b[39;00m \u001b[38;5;28;01mimport\u001b[39;00m convert_to_line_delimits\n\u001b[1;32m     67\u001b[0m \u001b[38;5;28;01mfrom\u001b[39;00m \u001b[38;5;21;01mpandas\u001b[39;00m\u001b[38;5;21;01m.\u001b[39;00m\u001b[38;5;21;01mio\u001b[39;00m\u001b[38;5;21;01m.\u001b[39;00m\u001b[38;5;21;01mjson\u001b[39;00m\u001b[38;5;21;01m.\u001b[39;00m\u001b[38;5;21;01m_table_schema\u001b[39;00m \u001b[38;5;28;01mimport\u001b[39;00m (\n\u001b[1;32m     68\u001b[0m     build_table_schema,\n\u001b[1;32m     69\u001b[0m     parse_table_schema,\n\u001b[1;32m     70\u001b[0m )\n\u001b[0;32m---> 71\u001b[0m \u001b[38;5;28;01mfrom\u001b[39;00m \u001b[38;5;21;01mpandas\u001b[39;00m\u001b[38;5;21;01m.\u001b[39;00m\u001b[38;5;21;01mio\u001b[39;00m\u001b[38;5;21;01m.\u001b[39;00m\u001b[38;5;21;01mparsers\u001b[39;00m\u001b[38;5;21;01m.\u001b[39;00m\u001b[38;5;21;01mreaders\u001b[39;00m \u001b[38;5;28;01mimport\u001b[39;00m validate_integer\n\u001b[1;32m     73\u001b[0m \u001b[38;5;28;01mif\u001b[39;00m TYPE_CHECKING:\n\u001b[1;32m     74\u001b[0m     \u001b[38;5;28;01mfrom\u001b[39;00m \u001b[38;5;21;01mcollections\u001b[39;00m\u001b[38;5;21;01m.\u001b[39;00m\u001b[38;5;21;01mabc\u001b[39;00m \u001b[38;5;28;01mimport\u001b[39;00m (\n\u001b[1;32m     75\u001b[0m         Hashable,\n\u001b[1;32m     76\u001b[0m         Mapping,\n\u001b[1;32m     77\u001b[0m     )\n",
      "File \u001b[0;32m/opt/anaconda3/lib/python3.12/site-packages/pandas/io/parsers/__init__.py:1\u001b[0m\n\u001b[0;32m----> 1\u001b[0m \u001b[38;5;28;01mfrom\u001b[39;00m \u001b[38;5;21;01mpandas\u001b[39;00m\u001b[38;5;21;01m.\u001b[39;00m\u001b[38;5;21;01mio\u001b[39;00m\u001b[38;5;21;01m.\u001b[39;00m\u001b[38;5;21;01mparsers\u001b[39;00m\u001b[38;5;21;01m.\u001b[39;00m\u001b[38;5;21;01mreaders\u001b[39;00m \u001b[38;5;28;01mimport\u001b[39;00m (\n\u001b[1;32m      2\u001b[0m     TextFileReader,\n\u001b[1;32m      3\u001b[0m     TextParser,\n\u001b[1;32m      4\u001b[0m     read_csv,\n\u001b[1;32m      5\u001b[0m     read_fwf,\n\u001b[1;32m      6\u001b[0m     read_table,\n\u001b[1;32m      7\u001b[0m )\n\u001b[1;32m      9\u001b[0m __all__ \u001b[38;5;241m=\u001b[39m [\u001b[38;5;124m\"\u001b[39m\u001b[38;5;124mTextFileReader\u001b[39m\u001b[38;5;124m\"\u001b[39m, \u001b[38;5;124m\"\u001b[39m\u001b[38;5;124mTextParser\u001b[39m\u001b[38;5;124m\"\u001b[39m, \u001b[38;5;124m\"\u001b[39m\u001b[38;5;124mread_csv\u001b[39m\u001b[38;5;124m\"\u001b[39m, \u001b[38;5;124m\"\u001b[39m\u001b[38;5;124mread_fwf\u001b[39m\u001b[38;5;124m\"\u001b[39m, \u001b[38;5;124m\"\u001b[39m\u001b[38;5;124mread_table\u001b[39m\u001b[38;5;124m\"\u001b[39m]\n",
      "File \u001b[0;32m/opt/anaconda3/lib/python3.12/site-packages/pandas/io/parsers/readers.py:32\u001b[0m\n\u001b[1;32m     29\u001b[0m \u001b[38;5;28;01mfrom\u001b[39;00m \u001b[38;5;21;01mpandas\u001b[39;00m\u001b[38;5;21;01m.\u001b[39;00m\u001b[38;5;21;01m_config\u001b[39;00m \u001b[38;5;28;01mimport\u001b[39;00m using_copy_on_write\n\u001b[1;32m     31\u001b[0m \u001b[38;5;28;01mfrom\u001b[39;00m \u001b[38;5;21;01mpandas\u001b[39;00m\u001b[38;5;21;01m.\u001b[39;00m\u001b[38;5;21;01m_libs\u001b[39;00m \u001b[38;5;28;01mimport\u001b[39;00m lib\n\u001b[0;32m---> 32\u001b[0m \u001b[38;5;28;01mfrom\u001b[39;00m \u001b[38;5;21;01mpandas\u001b[39;00m\u001b[38;5;21;01m.\u001b[39;00m\u001b[38;5;21;01m_libs\u001b[39;00m\u001b[38;5;21;01m.\u001b[39;00m\u001b[38;5;21;01mparsers\u001b[39;00m \u001b[38;5;28;01mimport\u001b[39;00m STR_NA_VALUES\n\u001b[1;32m     33\u001b[0m \u001b[38;5;28;01mfrom\u001b[39;00m \u001b[38;5;21;01mpandas\u001b[39;00m\u001b[38;5;21;01m.\u001b[39;00m\u001b[38;5;21;01merrors\u001b[39;00m \u001b[38;5;28;01mimport\u001b[39;00m (\n\u001b[1;32m     34\u001b[0m     AbstractMethodError,\n\u001b[1;32m     35\u001b[0m     ParserWarning,\n\u001b[1;32m     36\u001b[0m )\n\u001b[1;32m     37\u001b[0m \u001b[38;5;28;01mfrom\u001b[39;00m \u001b[38;5;21;01mpandas\u001b[39;00m\u001b[38;5;21;01m.\u001b[39;00m\u001b[38;5;21;01mutil\u001b[39;00m\u001b[38;5;21;01m.\u001b[39;00m\u001b[38;5;21;01m_decorators\u001b[39;00m \u001b[38;5;28;01mimport\u001b[39;00m Appender\n",
      "File \u001b[0;32mparsers.pyx:1418\u001b[0m, in \u001b[0;36minit pandas._libs.parsers\u001b[0;34m()\u001b[0m\n",
      "\u001b[0;31mAttributeError\u001b[0m: partially initialized module 'pandas' has no attribute '_pandas_parser_CAPI' (most likely due to a circular import)"
     ]
    }
   ],
   "source": [
    "import pandas as pd\n",
    "\n",
    "petrophy={'rock density' :[2.60, 2.65, 2.70, 2.75, 2.80],\n",
    "          'seismic velocity' :[4.2, 4.5, 4.7, 4.9, 5.0]}\n",
    "petro_df=pd.DataFrame(petrophy)\n",
    "petro_df"
   ]
  },
  {
   "cell_type": "code",
   "execution_count": 14,
   "id": "e95a2236",
   "metadata": {
    "slideshow": {
     "slide_type": "slide"
    }
   },
   "outputs": [
    {
     "ename": "NameError",
     "evalue": "name 'petro_df' is not defined",
     "output_type": "error",
     "traceback": [
      "\u001b[0;31m---------------------------------------------------------------------------\u001b[0m",
      "\u001b[0;31mNameError\u001b[0m                                 Traceback (most recent call last)",
      "Cell \u001b[0;32mIn[14], line 3\u001b[0m\n\u001b[1;32m      1\u001b[0m \u001b[38;5;28;01mimport\u001b[39;00m \u001b[38;5;21;01mnumpy\u001b[39;00m \u001b[38;5;28;01mas\u001b[39;00m \u001b[38;5;21;01mnp\u001b[39;00m\n\u001b[0;32m----> 3\u001b[0m X\u001b[38;5;241m=\u001b[39mnp\u001b[38;5;241m.\u001b[39marray(petro_df[\u001b[38;5;124m'\u001b[39m\u001b[38;5;124mrock density\u001b[39m\u001b[38;5;124m'\u001b[39m])\n\u001b[1;32m      4\u001b[0m y\u001b[38;5;241m=\u001b[39mnp\u001b[38;5;241m.\u001b[39marray(petro_df[\u001b[38;5;124m'\u001b[39m\u001b[38;5;124mseismic velocity\u001b[39m\u001b[38;5;124m'\u001b[39m])\n\u001b[1;32m      5\u001b[0m N_data\u001b[38;5;241m=\u001b[39m\u001b[38;5;28mlen\u001b[39m(X)\n",
      "\u001b[0;31mNameError\u001b[0m: name 'petro_df' is not defined"
     ]
    }
   ],
   "source": [
    "import numpy as np\n",
    "\n",
    "X=np.array(petro_df['rock density'])\n",
    "y=np.array(petro_df['seismic velocity'])\n",
    "N_data=len(X)\n",
    "\n",
    "#initialize condition\n",
    "\n",
    "n=0\n",
    "sum_x=0\n",
    "sum_x2=0\n",
    "\n",
    "while n < N_data:\n",
    "    x=X[n]\n",
    "    #accumulate sums\n",
    "    \n",
    "    sum_x += x\n",
    "    sum_x2 += x**2\n",
    "    x=X[n]\n",
    "    n +=1\n",
    "# Check accumulated sums\n",
    "print(f\"Sum of x: {sum_x}\")\n",
    "print(f\"Sum of x^2 : {sum_x2}\")  "
   ]
  },
  {
   "cell_type": "code",
   "execution_count": null,
   "id": "a687b414",
   "metadata": {
    "slideshow": {
     "slide_type": "slide"
    }
   },
   "outputs": [],
   "source": [
    "#Calculate the mean and standard deviation\n",
    "import math \n",
    "x_bar = sum_x / n\n",
    "std_dev = math.sqrt((n * sum_x2 - sum_x ** 2) / (n * (n - 1)))\n",
    "\n",
    "print('----------------------------------------------------')\n",
    "print(f'MEAN OF DENSITY is  {x_bar:.2f} g/cc')\n",
    "print(f'Standard deviation of Density is  {std_dev:.2f}')"
   ]
  },
  {
   "cell_type": "markdown",
   "id": "dd356983",
   "metadata": {
    "slideshow": {
     "slide_type": "slide"
    }
   },
   "source": [
    "## Tugas\n",
    "1. Calculate Mean & Std of Density using for loops\n",
    "2. Calculate Mean & Std of Seismic velocity (in km/s) using while loop\n",
    "3. Do no.2 with for loops"
   ]
  },
  {
   "cell_type": "markdown",
   "id": "00b06326",
   "metadata": {
    "slideshow": {
     "slide_type": "slide"
    }
   },
   "source": [
    "## Any Questions?\n",
    "\n",
    "# Thank You\n",
    "\n",
    "### dharma.arunglaby@its.ac.id\n"
   ]
  },
  {
   "cell_type": "markdown",
   "id": "c2d71c67",
   "metadata": {},
   "source": [
    "## Sampel Batuan"
   ]
  },
  {
   "cell_type": "code",
   "execution_count": null,
   "id": "223be772",
   "metadata": {},
   "outputs": [],
   "source": [
    "import pandas as pd\n",
    "\n",
    "print('Sampel B')\n",
    "experiment={'massa kering (gram)' :[270, 271, 271, 270, 270],\n",
    "          'massa basah (gram)' :[250, 251, 251, 250, 250]}\n",
    "exp_df=pd.DataFrame(experiment)\n",
    "exp_df"
   ]
  },
  {
   "cell_type": "code",
   "execution_count": null,
   "id": "d4a71464",
   "metadata": {},
   "outputs": [],
   "source": [
    "import numpy as np\n",
    "\n",
    "Mb=np.array(exp_df['massa kering (gram)'])\n",
    "Mk=np.array(exp_df['massa basah (gram)'])\n",
    "N_data=len(Mb)\n",
    "\n",
    "#initialize condition\n",
    "\n",
    "n=0\n",
    "sum_mb=0\n",
    "sum_mk=0\n",
    "\n",
    "while n < N_data:\n",
    "    mb=Mb[n]\n",
    "    mk=Mk[n]\n",
    "    #accumulate sums\n",
    "    \n",
    "    sum_mb += mb\n",
    "    sum_mk += mk\n",
    "    mb=Mb[n]\n",
    "    mk=Mk[n]\n",
    "    n +=1\n",
    "    \n",
    "massa_basah=sum_mb/N_data\n",
    "massa_kering=sum_mk/N_data\n",
    "\n",
    "# Check accumulated sums\n",
    "print(f\"Massa basah rata-rata : {massa_basah} gram\")\n",
    "print(f\"Massa kering rata-rata  : {massa_kering} gram\")  "
   ]
  },
  {
   "cell_type": "code",
   "execution_count": null,
   "id": "977f281d",
   "metadata": {},
   "outputs": [],
   "source": [
    "#Perhitungan porositas\n",
    "import math\n",
    "\n",
    "SG=1.07\n",
    "r=2\n",
    "l=12\n",
    "\n",
    "Vp=(massa_basah-massa_kering)/SG\n",
    "Vb=(math.pi*r**2)*l\n",
    "PHI=Vp/Vb*100\n",
    "\n",
    "        \n",
    "\n",
    "print(f\" Pore volume : {Vp:.2f}  g/cc\")\n",
    "print(f\" Bulk volume  : {Vb:.2f} g/cc\")\n",
    "print(f\" Average porosity of rock  : {PHI:.2f} %\")\n",
    "\n",
    "print(\"Conclusion :\")\n",
    "\n",
    "if PHI>20:\n",
    "    print(\"The Porosity of rock is Very Good\")\n",
    "elif PHI>15:\n",
    "    print(\"The Porosity of rock is Good\")\n",
    "elif PHI>10:\n",
    "    print(\"The Porosity of rock is Fair\")\n",
    "elif PHI>5:\n",
    "    print(\"The Porosity of rock is Poor\")\n",
    "else:\n",
    "    print(\"The Porosity of rock is Negligible\")\n"
   ]
  },
  {
   "cell_type": "code",
   "execution_count": null,
   "id": "566fa069",
   "metadata": {},
   "outputs": [],
   "source": []
  }
 ],
 "metadata": {
  "celltoolbar": "Slideshow",
  "kernelspec": {
   "display_name": "Python 3 (ipykernel)",
   "language": "python",
   "name": "python3"
  },
  "language_info": {
   "codemirror_mode": {
    "name": "ipython",
    "version": 3
   },
   "file_extension": ".py",
   "mimetype": "text/x-python",
   "name": "python",
   "nbconvert_exporter": "python",
   "pygments_lexer": "ipython3",
   "version": "3.12.2"
  }
 },
 "nbformat": 4,
 "nbformat_minor": 5
}
